{
 "cells": [
  {
   "cell_type": "code",
   "execution_count": 1,
   "metadata": {
    "colab": {
     "base_uri": "https://localhost:8080/"
    },
    "id": "H-rCTu169up_",
    "outputId": "f6c63821-0af3-4cb2-e591-984303d72f45"
   },
   "outputs": [
    {
     "name": "stdout",
     "output_type": "stream",
     "text": [
      "Requirement already satisfied: TextBlob in c:\\programdata\\anaconda3\\lib\\site-packages (0.15.3)\n",
      "Requirement already satisfied: nltk>=3.1 in c:\\programdata\\anaconda3\\lib\\site-packages (from TextBlob) (3.6.1)\n",
      "Requirement already satisfied: tqdm in c:\\programdata\\anaconda3\\lib\\site-packages (from nltk>=3.1->TextBlob) (4.59.0)\n",
      "Requirement already satisfied: joblib in c:\\programdata\\anaconda3\\lib\\site-packages (from nltk>=3.1->TextBlob) (1.0.1)\n",
      "Requirement already satisfied: regex in c:\\programdata\\anaconda3\\lib\\site-packages (from nltk>=3.1->TextBlob) (2021.4.4)\n",
      "Requirement already satisfied: click in c:\\programdata\\anaconda3\\lib\\site-packages (from nltk>=3.1->TextBlob) (7.1.2)\n",
      "Finished.\n"
     ]
    },
    {
     "name": "stderr",
     "output_type": "stream",
     "text": [
      "[nltk_data] Downloading package brown to\n",
      "[nltk_data]     C:\\Users\\ShruthiShanbogRamamu\\AppData\\Roaming\\nltk_dat\n",
      "[nltk_data]     a...\n",
      "[nltk_data]   Package brown is already up-to-date!\n",
      "[nltk_data] Downloading package punkt to\n",
      "[nltk_data]     C:\\Users\\ShruthiShanbogRamamu\\AppData\\Roaming\\nltk_dat\n",
      "[nltk_data]     a...\n",
      "[nltk_data]   Package punkt is already up-to-date!\n",
      "[nltk_data] Downloading package wordnet to\n",
      "[nltk_data]     C:\\Users\\ShruthiShanbogRamamu\\AppData\\Roaming\\nltk_dat\n",
      "[nltk_data]     a...\n",
      "[nltk_data]   Package wordnet is already up-to-date!\n",
      "[nltk_data] Downloading package averaged_perceptron_tagger to\n",
      "[nltk_data]     C:\\Users\\ShruthiShanbogRamamu\\AppData\\Roaming\\nltk_dat\n",
      "[nltk_data]     a...\n",
      "[nltk_data]   Package averaged_perceptron_tagger is already up-to-\n",
      "[nltk_data]       date!\n",
      "[nltk_data] Downloading package conll2000 to\n",
      "[nltk_data]     C:\\Users\\ShruthiShanbogRamamu\\AppData\\Roaming\\nltk_dat\n",
      "[nltk_data]     a...\n",
      "[nltk_data]   Package conll2000 is already up-to-date!\n",
      "[nltk_data] Downloading package movie_reviews to\n",
      "[nltk_data]     C:\\Users\\ShruthiShanbogRamamu\\AppData\\Roaming\\nltk_dat\n",
      "[nltk_data]     a...\n",
      "[nltk_data]   Package movie_reviews is already up-to-date!\n"
     ]
    }
   ],
   "source": [
    "import re\n",
    "import string\n",
    "import pickle\n",
    "\n",
    "# Import utility libraries\n",
    "import pandas as pd\n",
    "import numpy as np\n",
    "import os\n",
    "import matplotlib.pyplot as plt\n",
    "import seaborn as sn\n",
    "\n",
    "%matplotlib inline\n",
    "# Import libraries for text manipulation\n",
    "from sklearn.feature_extraction.text import TfidfVectorizer, CountVectorizer\n",
    "from sklearn.model_selection import train_test_split\n",
    "from sklearn.naive_bayes import MultinomialNB\n",
    "\n",
    "# Import modules for evaluation purposes\n",
    "# Import libraries for predcton\n",
    "from sklearn import metrics\n",
    "from sklearn.metrics import confusion_matrix,accuracy_score,roc_auc_score,roc_curve,auc,f1_score\n",
    "from wordcloud import WordCloud\n",
    "import nltk\n",
    "from nltk.stem import WordNetLemmatizer\n",
    "wnl = WordNetLemmatizer()\n",
    "from wordcloud import WordCloud, STOPWORDS\n",
    "import matplotlib.pyplot as plt\n",
    "import pandas as pd\n",
    "!pip install TextBlob\n",
    "!python -m textblob.download_corpora\n",
    "# nltk.download('punkt')\n",
    "# nltk.download('wordnet') \n",
    "# nltk.download('averaged_perceptron_tagger')\n",
    "\n",
    "import re\n",
    "import nltk\n",
    "#nltk.download('stopwords')\n",
    "from nltk.corpus import stopwords\n",
    "\n",
    "from textblob import TextBlob, Word\n",
    "\n",
    "from nltk.tokenize import word_tokenize  \n",
    "import collections\n",
    "\n",
    "\n",
    "from sklearn.feature_extraction.text import TfidfVectorizer\n",
    "from sklearn.decomposition import PCA\n",
    "from sklearn.preprocessing import StandardScaler"
   ]
  },
  {
   "cell_type": "code",
   "execution_count": 2,
   "metadata": {
    "id": "LT8CVmIt9up_"
   },
   "outputs": [],
   "source": [
    "### Loading Data post flitring on (Driscolls_Views_IN_TABLEAU.csv) \n",
    "data=pd.read_csv(\"final.csv\")"
   ]
  },
  {
   "cell_type": "code",
   "execution_count": 3,
   "metadata": {
    "colab": {
     "base_uri": "https://localhost:8080/",
     "height": 340
    },
    "id": "FEAaN14k9up_",
    "outputId": "e87d64ec-5bcc-416f-9dac-6ab5d386f048"
   },
   "outputs": [
    {
     "data": {
      "text/html": [
       "<div>\n",
       "<style scoped>\n",
       "    .dataframe tbody tr th:only-of-type {\n",
       "        vertical-align: middle;\n",
       "    }\n",
       "\n",
       "    .dataframe tbody tr th {\n",
       "        vertical-align: top;\n",
       "    }\n",
       "\n",
       "    .dataframe thead th {\n",
       "        text-align: right;\n",
       "    }\n",
       "</style>\n",
       "<table border=\"1\" class=\"dataframe\">\n",
       "  <thead>\n",
       "    <tr style=\"text-align: right;\">\n",
       "      <th></th>\n",
       "      <th>Unnamed: 0</th>\n",
       "      <th>System</th>\n",
       "      <th>Dashboard ID</th>\n",
       "      <th>Dashboard Name</th>\n",
       "      <th>Project</th>\n",
       "      <th>Usage Count</th>\n",
       "      <th># of Unique Users</th>\n",
       "      <th>Table Count</th>\n",
       "      <th>Created Date (UTC)</th>\n",
       "      <th>Updated Date (UTC)</th>\n",
       "      <th>Last Accessed Date (UTC)</th>\n",
       "      <th>date_date</th>\n",
       "      <th>converted_last</th>\n",
       "      <th>new_lastacess</th>\n",
       "      <th>days_between</th>\n",
       "    </tr>\n",
       "  </thead>\n",
       "  <tbody>\n",
       "    <tr>\n",
       "      <th>0</th>\n",
       "      <td>1</td>\n",
       "      <td>TABLEAU</td>\n",
       "      <td>d74e3b45-17f2-4124-b62b-d7f09210b555</td>\n",
       "      <td>Pallet Summary by Order by Day</td>\n",
       "      <td>Distribution</td>\n",
       "      <td>31</td>\n",
       "      <td>4</td>\n",
       "      <td>3</td>\n",
       "      <td>12/06/2019 15:32:32</td>\n",
       "      <td>01/03/2020 21:55:13</td>\n",
       "      <td>03/02/2020 21:39:42</td>\n",
       "      <td>2019-12-06</td>\n",
       "      <td>2020-03-02</td>\n",
       "      <td>2020-03-02</td>\n",
       "      <td>87</td>\n",
       "    </tr>\n",
       "    <tr>\n",
       "      <th>1</th>\n",
       "      <td>18</td>\n",
       "      <td>TABLEAU</td>\n",
       "      <td>8b97fcdb-6cb8-400a-b905-69a6745b0c0b</td>\n",
       "      <td>Degradings Detailed View</td>\n",
       "      <td>DEMEA QC</td>\n",
       "      <td>128</td>\n",
       "      <td>19</td>\n",
       "      <td>7</td>\n",
       "      <td>01/08/2020 00:05:52</td>\n",
       "      <td>01/08/2020 00:05:52</td>\n",
       "      <td>04/16/2020 08:59:27</td>\n",
       "      <td>2020-01-08</td>\n",
       "      <td>2020-04-16</td>\n",
       "      <td>2020-04-16</td>\n",
       "      <td>99</td>\n",
       "    </tr>\n",
       "    <tr>\n",
       "      <th>2</th>\n",
       "      <td>19</td>\n",
       "      <td>TABLEAU</td>\n",
       "      <td>fe97818f-0c0c-4cfd-b9b6-a51447a90f1d</td>\n",
       "      <td>Product Leader - Blueberries</td>\n",
       "      <td>DEMEA S&amp;OP</td>\n",
       "      <td>36</td>\n",
       "      <td>8</td>\n",
       "      <td>3</td>\n",
       "      <td>06/19/2019 14:14:58</td>\n",
       "      <td>03/26/2020 07:37:35</td>\n",
       "      <td>04/16/2020 07:40:14</td>\n",
       "      <td>2019-06-19</td>\n",
       "      <td>2020-04-16</td>\n",
       "      <td>2020-04-16</td>\n",
       "      <td>302</td>\n",
       "    </tr>\n",
       "    <tr>\n",
       "      <th>3</th>\n",
       "      <td>20</td>\n",
       "      <td>TABLEAU</td>\n",
       "      <td>ee1a9c44-08b0-447b-9240-280d2ca80847</td>\n",
       "      <td>CHL Fruit Details</td>\n",
       "      <td>DEMEA S&amp;OP</td>\n",
       "      <td>52</td>\n",
       "      <td>5</td>\n",
       "      <td>4</td>\n",
       "      <td>01/17/2020 15:05:53</td>\n",
       "      <td>01/21/2020 21:21:44</td>\n",
       "      <td>04/07/2020 07:03:50</td>\n",
       "      <td>2020-01-17</td>\n",
       "      <td>2020-04-07</td>\n",
       "      <td>2020-04-07</td>\n",
       "      <td>81</td>\n",
       "    </tr>\n",
       "    <tr>\n",
       "      <th>4</th>\n",
       "      <td>21</td>\n",
       "      <td>TABLEAU</td>\n",
       "      <td>95718e2e-551b-4a8a-b378-89193d8238e1</td>\n",
       "      <td>Product Leader - Raspberries</td>\n",
       "      <td>DEMEA S&amp;OP</td>\n",
       "      <td>64</td>\n",
       "      <td>8</td>\n",
       "      <td>6</td>\n",
       "      <td>01/14/2020 16:55:30</td>\n",
       "      <td>01/14/2020 16:55:30</td>\n",
       "      <td>04/14/2020 10:38:24</td>\n",
       "      <td>2020-01-14</td>\n",
       "      <td>2020-04-14</td>\n",
       "      <td>2020-04-14</td>\n",
       "      <td>91</td>\n",
       "    </tr>\n",
       "  </tbody>\n",
       "</table>\n",
       "</div>"
      ],
      "text/plain": [
       "   Unnamed: 0   System                          Dashboard ID  \\\n",
       "0           1  TABLEAU  d74e3b45-17f2-4124-b62b-d7f09210b555   \n",
       "1          18  TABLEAU  8b97fcdb-6cb8-400a-b905-69a6745b0c0b   \n",
       "2          19  TABLEAU  fe97818f-0c0c-4cfd-b9b6-a51447a90f1d   \n",
       "3          20  TABLEAU  ee1a9c44-08b0-447b-9240-280d2ca80847   \n",
       "4          21  TABLEAU  95718e2e-551b-4a8a-b378-89193d8238e1   \n",
       "\n",
       "                   Dashboard Name       Project  Usage Count  \\\n",
       "0  Pallet Summary by Order by Day  Distribution           31   \n",
       "1        Degradings Detailed View      DEMEA QC          128   \n",
       "2    Product Leader - Blueberries    DEMEA S&OP           36   \n",
       "3               CHL Fruit Details    DEMEA S&OP           52   \n",
       "4    Product Leader - Raspberries    DEMEA S&OP           64   \n",
       "\n",
       "   # of Unique Users  Table Count   Created Date (UTC)   Updated Date (UTC)  \\\n",
       "0                  4            3  12/06/2019 15:32:32  01/03/2020 21:55:13   \n",
       "1                 19            7  01/08/2020 00:05:52  01/08/2020 00:05:52   \n",
       "2                  8            3  06/19/2019 14:14:58  03/26/2020 07:37:35   \n",
       "3                  5            4  01/17/2020 15:05:53  01/21/2020 21:21:44   \n",
       "4                  8            6  01/14/2020 16:55:30  01/14/2020 16:55:30   \n",
       "\n",
       "  Last Accessed Date (UTC)   date_date converted_last new_lastacess  \\\n",
       "0      03/02/2020 21:39:42  2019-12-06     2020-03-02    2020-03-02   \n",
       "1      04/16/2020 08:59:27  2020-01-08     2020-04-16    2020-04-16   \n",
       "2      04/16/2020 07:40:14  2019-06-19     2020-04-16    2020-04-16   \n",
       "3      04/07/2020 07:03:50  2020-01-17     2020-04-07    2020-04-07   \n",
       "4      04/14/2020 10:38:24  2020-01-14     2020-04-14    2020-04-14   \n",
       "\n",
       "   days_between  \n",
       "0            87  \n",
       "1            99  \n",
       "2           302  \n",
       "3            81  \n",
       "4            91  "
      ]
     },
     "execution_count": 3,
     "metadata": {},
     "output_type": "execute_result"
    }
   ],
   "source": [
    "data.head(5)"
   ]
  },
  {
   "cell_type": "code",
   "execution_count": 4,
   "metadata": {
    "colab": {
     "base_uri": "https://localhost:8080/"
    },
    "id": "dqrbFMJQvwwP",
    "outputId": "7af531bb-fe7f-478d-b455-2589d849f93c"
   },
   "outputs": [
    {
     "name": "stderr",
     "output_type": "stream",
     "text": [
      "[nltk_data] Downloading package stopwords to\n",
      "[nltk_data]     C:\\Users\\ShruthiShanbogRamamu\\AppData\\Roaming\\nltk_dat\n",
      "[nltk_data]     a...\n",
      "[nltk_data]   Package stopwords is already up-to-date!\n"
     ]
    }
   ],
   "source": [
    "import nltk\n",
    "nltk.download('stopwords')\n",
    "from nltk.corpus import stopwords\n",
    "stopwords = stopwords.words('english')\n",
    "stop_words = stopwords+['report','dashboard','reports','data','v','vs']\n",
    "# stop_words1= stop_words.remove('so')\n",
    "stop_words.remove('so')"
   ]
  },
  {
   "cell_type": "code",
   "execution_count": 5,
   "metadata": {
    "colab": {
     "base_uri": "https://localhost:8080/"
    },
    "id": "wCTeKuO6MI63",
    "outputId": "a778e91d-e15a-455f-c385-c28a4164630a"
   },
   "outputs": [
    {
     "data": {
      "text/plain": [
       "184"
      ]
     },
     "execution_count": 5,
     "metadata": {},
     "output_type": "execute_result"
    }
   ],
   "source": [
    "len(stop_words)"
   ]
  },
  {
   "cell_type": "markdown",
   "metadata": {
    "id": "jlhm3_x66yJf"
   },
   "source": [
    "# Preprocessing "
   ]
  },
  {
   "cell_type": "code",
   "execution_count": 6,
   "metadata": {
    "id": "GQp_Grz5vw3g"
   },
   "outputs": [],
   "source": [
    "def initial_preprocessing(text):\n",
    "    if('_' in text):\n",
    "        text=text.replace('_',' ')\n",
    "    if('-' in text):\n",
    "        text=text.replace('-',' ')\n",
    "    return text\n",
    "\n",
    "\n",
    "def remove_num(text):\n",
    "    newstring = ''.join([i for i in text if not i.isdigit()])\n",
    "    return newstring\n",
    "\n",
    "def lemmatization(text):\n",
    "    text= wnl.lemmatize(text)\n",
    "    return text\n",
    "     \n",
    "\n",
    "def punct(string):\n",
    "    punctuations = '''!()-[]{};:'\"\\,<>./?@#$%^&*_~'''\n",
    "    for x in string.lower():\n",
    "        if x in punctuations:\n",
    "            string = string.replace(x, \"\")\n",
    "    return string\n",
    "\n",
    "def remove_stop_word(text):\n",
    "    \"\"\"Convert all characters to lowercase from raw text\"\"\"\n",
    "    words_ = str(text).lower().split()\n",
    "    \"\"\"Remove stop words from list of tokenized words\"\"\"\n",
    "    cleaned_words = []\n",
    "    for word in words_:\n",
    "        if word not in stop_words:\n",
    "            cleaned_words.append(word)\n",
    "    return \" \".join(cleaned_words)\n",
    "\n",
    "\n",
    "def main(text):\n",
    "    initial=initial_preprocessing(text)\n",
    "    num =remove_num(initial)\n",
    "    pun=punct(num)\n",
    "    stop =remove_stop_word(pun)\n",
    "  # number(text)\n",
    "    return  stop\n",
    "\n"
   ]
  },
  {
   "cell_type": "code",
   "execution_count": 8,
   "metadata": {
    "id": "siSd3lgBvw80"
   },
   "outputs": [],
   "source": [
    "def processing(read_data):\n",
    "    d = pd.DataFrame()\n",
    "  # convert into a seperate data frame\n",
    "    d['Dashboard Name']= read_data['Dashboard Name'].unique()\n",
    "    dashboards=[main(i) for i in d['Dashboard Name'].unique()]\n",
    "    d['Preprossed1']=dashboards\n",
    "    d['Preprossed']=d['Preprossed1'].str.lower()\n",
    "    lis=[]\n",
    "    for i in d['Preprossed'].tolist():\n",
    "        lis.append(i)\n",
    "    fin=[]\n",
    "    for i in lis:\n",
    "        s = TextBlob(i)\n",
    "        lemmatized_sentence = \" \".join([w.lemmatize() for w in s.words])\n",
    "        fin.append(lemmatized_sentence)\n",
    "    d['Lemmatized preprocessed'] =fin\n",
    "    return d"
   ]
  },
  {
   "cell_type": "code",
   "execution_count": 9,
   "metadata": {
    "colab": {
     "base_uri": "https://localhost:8080/",
     "height": 419
    },
    "id": "3t82MHfTvw_z",
    "outputId": "6d4497db-c012-4c03-f9dd-231bec200afc"
   },
   "outputs": [
    {
     "data": {
      "text/html": [
       "<div>\n",
       "<style scoped>\n",
       "    .dataframe tbody tr th:only-of-type {\n",
       "        vertical-align: middle;\n",
       "    }\n",
       "\n",
       "    .dataframe tbody tr th {\n",
       "        vertical-align: top;\n",
       "    }\n",
       "\n",
       "    .dataframe thead th {\n",
       "        text-align: right;\n",
       "    }\n",
       "</style>\n",
       "<table border=\"1\" class=\"dataframe\">\n",
       "  <thead>\n",
       "    <tr style=\"text-align: right;\">\n",
       "      <th></th>\n",
       "      <th>Dashboard Name</th>\n",
       "      <th>Preprossed1</th>\n",
       "      <th>Preprossed</th>\n",
       "      <th>Lemmatized preprocessed</th>\n",
       "    </tr>\n",
       "  </thead>\n",
       "  <tbody>\n",
       "    <tr>\n",
       "      <th>0</th>\n",
       "      <td>Pallet Summary by Order by Day</td>\n",
       "      <td>pallet summary order day</td>\n",
       "      <td>pallet summary order day</td>\n",
       "      <td>pallet summary order day</td>\n",
       "    </tr>\n",
       "    <tr>\n",
       "      <th>1</th>\n",
       "      <td>Degradings Detailed View</td>\n",
       "      <td>degradings detailed view</td>\n",
       "      <td>degradings detailed view</td>\n",
       "      <td>degradings detailed view</td>\n",
       "    </tr>\n",
       "    <tr>\n",
       "      <th>2</th>\n",
       "      <td>Product Leader - Blueberries</td>\n",
       "      <td>product leader blueberries</td>\n",
       "      <td>product leader blueberries</td>\n",
       "      <td>product leader blueberry</td>\n",
       "    </tr>\n",
       "    <tr>\n",
       "      <th>3</th>\n",
       "      <td>CHL Fruit Details</td>\n",
       "      <td>chl fruit details</td>\n",
       "      <td>chl fruit details</td>\n",
       "      <td>chl fruit detail</td>\n",
       "    </tr>\n",
       "    <tr>\n",
       "      <th>4</th>\n",
       "      <td>Product Leader - Raspberries</td>\n",
       "      <td>product leader raspberries</td>\n",
       "      <td>product leader raspberries</td>\n",
       "      <td>product leader raspberry</td>\n",
       "    </tr>\n",
       "    <tr>\n",
       "      <th>...</th>\n",
       "      <td>...</td>\n",
       "      <td>...</td>\n",
       "      <td>...</td>\n",
       "      <td>...</td>\n",
       "    </tr>\n",
       "    <tr>\n",
       "      <th>1020</th>\n",
       "      <td>Blackberry Daily Harvest Order Action Strategy</td>\n",
       "      <td>blackberry daily harvest order action strategy</td>\n",
       "      <td>blackberry daily harvest order action strategy</td>\n",
       "      <td>blackberry daily harvest order action strategy</td>\n",
       "    </tr>\n",
       "    <tr>\n",
       "      <th>1021</th>\n",
       "      <td>Daily Pulse</td>\n",
       "      <td>daily pulse</td>\n",
       "      <td>daily pulse</td>\n",
       "      <td>daily pulse</td>\n",
       "    </tr>\n",
       "    <tr>\n",
       "      <th>1022</th>\n",
       "      <td>Dax Certified Receipts for Month End Accrual G...</td>\n",
       "      <td>dax certified receipts month end accrual gf</td>\n",
       "      <td>dax certified receipts month end accrual gf</td>\n",
       "      <td>dax certified receipt month end accrual gf</td>\n",
       "    </tr>\n",
       "    <tr>\n",
       "      <th>1023</th>\n",
       "      <td>Vol by Berry 2019</td>\n",
       "      <td>vol berry</td>\n",
       "      <td>vol berry</td>\n",
       "      <td>vol berry</td>\n",
       "    </tr>\n",
       "    <tr>\n",
       "      <th>1024</th>\n",
       "      <td>Defects Table</td>\n",
       "      <td>defects table</td>\n",
       "      <td>defects table</td>\n",
       "      <td>defect table</td>\n",
       "    </tr>\n",
       "  </tbody>\n",
       "</table>\n",
       "<p>1025 rows × 4 columns</p>\n",
       "</div>"
      ],
      "text/plain": [
       "                                         Dashboard Name  \\\n",
       "0                        Pallet Summary by Order by Day   \n",
       "1                              Degradings Detailed View   \n",
       "2                          Product Leader - Blueberries   \n",
       "3                                     CHL Fruit Details   \n",
       "4                          Product Leader - Raspberries   \n",
       "...                                                 ...   \n",
       "1020     Blackberry Daily Harvest Order Action Strategy   \n",
       "1021                                        Daily Pulse   \n",
       "1022  Dax Certified Receipts for Month End Accrual G...   \n",
       "1023                                  Vol by Berry 2019   \n",
       "1024                                      Defects Table   \n",
       "\n",
       "                                         Preprossed1  \\\n",
       "0                           pallet summary order day   \n",
       "1                           degradings detailed view   \n",
       "2                         product leader blueberries   \n",
       "3                                  chl fruit details   \n",
       "4                         product leader raspberries   \n",
       "...                                              ...   \n",
       "1020  blackberry daily harvest order action strategy   \n",
       "1021                                     daily pulse   \n",
       "1022     dax certified receipts month end accrual gf   \n",
       "1023                                       vol berry   \n",
       "1024                                   defects table   \n",
       "\n",
       "                                          Preprossed  \\\n",
       "0                           pallet summary order day   \n",
       "1                           degradings detailed view   \n",
       "2                         product leader blueberries   \n",
       "3                                  chl fruit details   \n",
       "4                         product leader raspberries   \n",
       "...                                              ...   \n",
       "1020  blackberry daily harvest order action strategy   \n",
       "1021                                     daily pulse   \n",
       "1022     dax certified receipts month end accrual gf   \n",
       "1023                                       vol berry   \n",
       "1024                                   defects table   \n",
       "\n",
       "                             Lemmatized preprocessed  \n",
       "0                           pallet summary order day  \n",
       "1                           degradings detailed view  \n",
       "2                           product leader blueberry  \n",
       "3                                   chl fruit detail  \n",
       "4                           product leader raspberry  \n",
       "...                                              ...  \n",
       "1020  blackberry daily harvest order action strategy  \n",
       "1021                                     daily pulse  \n",
       "1022      dax certified receipt month end accrual gf  \n",
       "1023                                       vol berry  \n",
       "1024                                    defect table  \n",
       "\n",
       "[1025 rows x 4 columns]"
      ]
     },
     "execution_count": 9,
     "metadata": {},
     "output_type": "execute_result"
    }
   ],
   "source": [
    "post_lemmatization=processing(data)\n",
    "post_lemmatization"
   ]
  },
  {
   "cell_type": "code",
   "execution_count": 10,
   "metadata": {
    "colab": {
     "base_uri": "https://localhost:8080/"
    },
    "id": "7kOBTAuevxCZ",
    "outputId": "66e9728f-4d3c-43b9-bc67-70f51f2ea8dc"
   },
   "outputs": [
    {
     "data": {
      "text/plain": [
       "997"
      ]
     },
     "execution_count": 10,
     "metadata": {},
     "output_type": "execute_result"
    }
   ],
   "source": [
    "len(post_lemmatization['Lemmatized preprocessed'].unique())"
   ]
  },
  {
   "cell_type": "code",
   "execution_count": 11,
   "metadata": {
    "id": "hBjA1tzFKdyv"
   },
   "outputs": [],
   "source": [
    "post_lemmatization.to_csv(\"data_post_preprocess.csv\",index=False)"
   ]
  },
  {
   "cell_type": "code",
   "execution_count": 12,
   "metadata": {
    "id": "TbfTHT6bQ4nC"
   },
   "outputs": [],
   "source": [
    "new_set =  processing(data)"
   ]
  },
  {
   "cell_type": "code",
   "execution_count": 13,
   "metadata": {
    "colab": {
     "base_uri": "https://localhost:8080/",
     "height": 419
    },
    "id": "_FzhnrgWQ4qp",
    "outputId": "f46035f5-1032-41d1-dd40-0547dc3a6d88"
   },
   "outputs": [
    {
     "data": {
      "text/html": [
       "<div>\n",
       "<style scoped>\n",
       "    .dataframe tbody tr th:only-of-type {\n",
       "        vertical-align: middle;\n",
       "    }\n",
       "\n",
       "    .dataframe tbody tr th {\n",
       "        vertical-align: top;\n",
       "    }\n",
       "\n",
       "    .dataframe thead th {\n",
       "        text-align: right;\n",
       "    }\n",
       "</style>\n",
       "<table border=\"1\" class=\"dataframe\">\n",
       "  <thead>\n",
       "    <tr style=\"text-align: right;\">\n",
       "      <th></th>\n",
       "      <th>Dashboard Name</th>\n",
       "      <th>Preprossed1</th>\n",
       "      <th>Preprossed</th>\n",
       "      <th>Lemmatized preprocessed</th>\n",
       "    </tr>\n",
       "  </thead>\n",
       "  <tbody>\n",
       "    <tr>\n",
       "      <th>0</th>\n",
       "      <td>Pallet Summary by Order by Day</td>\n",
       "      <td>pallet summary order day</td>\n",
       "      <td>pallet summary order day</td>\n",
       "      <td>pallet summary order day</td>\n",
       "    </tr>\n",
       "    <tr>\n",
       "      <th>1</th>\n",
       "      <td>Degradings Detailed View</td>\n",
       "      <td>degradings detailed view</td>\n",
       "      <td>degradings detailed view</td>\n",
       "      <td>degradings detailed view</td>\n",
       "    </tr>\n",
       "    <tr>\n",
       "      <th>2</th>\n",
       "      <td>Product Leader - Blueberries</td>\n",
       "      <td>product leader blueberries</td>\n",
       "      <td>product leader blueberries</td>\n",
       "      <td>product leader blueberry</td>\n",
       "    </tr>\n",
       "    <tr>\n",
       "      <th>3</th>\n",
       "      <td>CHL Fruit Details</td>\n",
       "      <td>chl fruit details</td>\n",
       "      <td>chl fruit details</td>\n",
       "      <td>chl fruit detail</td>\n",
       "    </tr>\n",
       "    <tr>\n",
       "      <th>4</th>\n",
       "      <td>Product Leader - Raspberries</td>\n",
       "      <td>product leader raspberries</td>\n",
       "      <td>product leader raspberries</td>\n",
       "      <td>product leader raspberry</td>\n",
       "    </tr>\n",
       "    <tr>\n",
       "      <th>...</th>\n",
       "      <td>...</td>\n",
       "      <td>...</td>\n",
       "      <td>...</td>\n",
       "      <td>...</td>\n",
       "    </tr>\n",
       "    <tr>\n",
       "      <th>1020</th>\n",
       "      <td>Blackberry Daily Harvest Order Action Strategy</td>\n",
       "      <td>blackberry daily harvest order action strategy</td>\n",
       "      <td>blackberry daily harvest order action strategy</td>\n",
       "      <td>blackberry daily harvest order action strategy</td>\n",
       "    </tr>\n",
       "    <tr>\n",
       "      <th>1021</th>\n",
       "      <td>Daily Pulse</td>\n",
       "      <td>daily pulse</td>\n",
       "      <td>daily pulse</td>\n",
       "      <td>daily pulse</td>\n",
       "    </tr>\n",
       "    <tr>\n",
       "      <th>1022</th>\n",
       "      <td>Dax Certified Receipts for Month End Accrual G...</td>\n",
       "      <td>dax certified receipts month end accrual gf</td>\n",
       "      <td>dax certified receipts month end accrual gf</td>\n",
       "      <td>dax certified receipt month end accrual gf</td>\n",
       "    </tr>\n",
       "    <tr>\n",
       "      <th>1023</th>\n",
       "      <td>Vol by Berry 2019</td>\n",
       "      <td>vol berry</td>\n",
       "      <td>vol berry</td>\n",
       "      <td>vol berry</td>\n",
       "    </tr>\n",
       "    <tr>\n",
       "      <th>1024</th>\n",
       "      <td>Defects Table</td>\n",
       "      <td>defects table</td>\n",
       "      <td>defects table</td>\n",
       "      <td>defect table</td>\n",
       "    </tr>\n",
       "  </tbody>\n",
       "</table>\n",
       "<p>1025 rows × 4 columns</p>\n",
       "</div>"
      ],
      "text/plain": [
       "                                         Dashboard Name  \\\n",
       "0                        Pallet Summary by Order by Day   \n",
       "1                              Degradings Detailed View   \n",
       "2                          Product Leader - Blueberries   \n",
       "3                                     CHL Fruit Details   \n",
       "4                          Product Leader - Raspberries   \n",
       "...                                                 ...   \n",
       "1020     Blackberry Daily Harvest Order Action Strategy   \n",
       "1021                                        Daily Pulse   \n",
       "1022  Dax Certified Receipts for Month End Accrual G...   \n",
       "1023                                  Vol by Berry 2019   \n",
       "1024                                      Defects Table   \n",
       "\n",
       "                                         Preprossed1  \\\n",
       "0                           pallet summary order day   \n",
       "1                           degradings detailed view   \n",
       "2                         product leader blueberries   \n",
       "3                                  chl fruit details   \n",
       "4                         product leader raspberries   \n",
       "...                                              ...   \n",
       "1020  blackberry daily harvest order action strategy   \n",
       "1021                                     daily pulse   \n",
       "1022     dax certified receipts month end accrual gf   \n",
       "1023                                       vol berry   \n",
       "1024                                   defects table   \n",
       "\n",
       "                                          Preprossed  \\\n",
       "0                           pallet summary order day   \n",
       "1                           degradings detailed view   \n",
       "2                         product leader blueberries   \n",
       "3                                  chl fruit details   \n",
       "4                         product leader raspberries   \n",
       "...                                              ...   \n",
       "1020  blackberry daily harvest order action strategy   \n",
       "1021                                     daily pulse   \n",
       "1022     dax certified receipts month end accrual gf   \n",
       "1023                                       vol berry   \n",
       "1024                                   defects table   \n",
       "\n",
       "                             Lemmatized preprocessed  \n",
       "0                           pallet summary order day  \n",
       "1                           degradings detailed view  \n",
       "2                           product leader blueberry  \n",
       "3                                   chl fruit detail  \n",
       "4                           product leader raspberry  \n",
       "...                                              ...  \n",
       "1020  blackberry daily harvest order action strategy  \n",
       "1021                                     daily pulse  \n",
       "1022      dax certified receipt month end accrual gf  \n",
       "1023                                       vol berry  \n",
       "1024                                    defect table  \n",
       "\n",
       "[1025 rows x 4 columns]"
      ]
     },
     "execution_count": 13,
     "metadata": {},
     "output_type": "execute_result"
    }
   ],
   "source": [
    "new_set"
   ]
  },
  {
   "cell_type": "code",
   "execution_count": 15,
   "metadata": {
    "id": "Hgl1yEivRF4i"
   },
   "outputs": [],
   "source": [
    "#new_set.reset_index(drop=True,inplace=True)"
   ]
  },
  {
   "cell_type": "code",
   "execution_count": 16,
   "metadata": {
    "id": "Ifgz1wh-xV1Q"
   },
   "outputs": [],
   "source": [
    "new_set=new_set.drop(columns=[\"Preprossed1\",\"Preprossed\"])\n",
    "new_set=new_set.drop_duplicates(subset =['Lemmatized preprocessed'])\n",
    "dim1= len(new_set['Lemmatized preprocessed'].unique())\n",
    "new_set['Masked Dashboard Name']= ['Dash'+str(i) for i in range(dim1)]"
   ]
  },
  {
   "cell_type": "code",
   "execution_count": 19,
   "metadata": {
    "colab": {
     "base_uri": "https://localhost:8080/",
     "height": 204
    },
    "id": "cST8zsDtxWFj",
    "outputId": "a8d62e9a-3699-43ab-864d-559c8634497d"
   },
   "outputs": [
    {
     "data": {
      "text/html": [
       "<div>\n",
       "<style scoped>\n",
       "    .dataframe tbody tr th:only-of-type {\n",
       "        vertical-align: middle;\n",
       "    }\n",
       "\n",
       "    .dataframe tbody tr th {\n",
       "        vertical-align: top;\n",
       "    }\n",
       "\n",
       "    .dataframe thead th {\n",
       "        text-align: right;\n",
       "    }\n",
       "</style>\n",
       "<table border=\"1\" class=\"dataframe\">\n",
       "  <thead>\n",
       "    <tr style=\"text-align: right;\">\n",
       "      <th></th>\n",
       "      <th>Dashboard Name</th>\n",
       "      <th>Lemmatized preprocessed</th>\n",
       "      <th>Masked Dashboard Name</th>\n",
       "    </tr>\n",
       "  </thead>\n",
       "  <tbody>\n",
       "    <tr>\n",
       "      <th>0</th>\n",
       "      <td>Pallet Summary by Order by Day</td>\n",
       "      <td>pallet summary order day</td>\n",
       "      <td>Dash0</td>\n",
       "    </tr>\n",
       "    <tr>\n",
       "      <th>1</th>\n",
       "      <td>Degradings Detailed View</td>\n",
       "      <td>degradings detailed view</td>\n",
       "      <td>Dash1</td>\n",
       "    </tr>\n",
       "    <tr>\n",
       "      <th>2</th>\n",
       "      <td>Product Leader - Blueberries</td>\n",
       "      <td>product leader blueberry</td>\n",
       "      <td>Dash2</td>\n",
       "    </tr>\n",
       "    <tr>\n",
       "      <th>3</th>\n",
       "      <td>CHL Fruit Details</td>\n",
       "      <td>chl fruit detail</td>\n",
       "      <td>Dash3</td>\n",
       "    </tr>\n",
       "    <tr>\n",
       "      <th>4</th>\n",
       "      <td>Product Leader - Raspberries</td>\n",
       "      <td>product leader raspberry</td>\n",
       "      <td>Dash4</td>\n",
       "    </tr>\n",
       "  </tbody>\n",
       "</table>\n",
       "</div>"
      ],
      "text/plain": [
       "                   Dashboard Name   Lemmatized preprocessed  \\\n",
       "0  Pallet Summary by Order by Day  pallet summary order day   \n",
       "1        Degradings Detailed View  degradings detailed view   \n",
       "2    Product Leader - Blueberries  product leader blueberry   \n",
       "3               CHL Fruit Details          chl fruit detail   \n",
       "4    Product Leader - Raspberries  product leader raspberry   \n",
       "\n",
       "  Masked Dashboard Name  \n",
       "0                 Dash0  \n",
       "1                 Dash1  \n",
       "2                 Dash2  \n",
       "3                 Dash3  \n",
       "4                 Dash4  "
      ]
     },
     "execution_count": 19,
     "metadata": {},
     "output_type": "execute_result"
    }
   ],
   "source": [
    "new_set.head()"
   ]
  },
  {
   "cell_type": "code",
   "execution_count": 36,
   "metadata": {
    "colab": {
     "base_uri": "https://localhost:8080/"
    },
    "id": "jEU2O8VNxgXX",
    "outputId": "a58e3591-db2a-46b9-c126-6818bb0097a6"
   },
   "outputs": [
    {
     "data": {
      "text/plain": [
       "Dashboard Name             0\n",
       "Lemmatized preprocessed    0\n",
       "Masked Dashboard Name      0\n",
       "dtype: int64"
      ]
     },
     "execution_count": 36,
     "metadata": {},
     "output_type": "execute_result"
    }
   ],
   "source": [
    "new_set.isnull().sum()"
   ]
  },
  {
   "cell_type": "code",
   "execution_count": 38,
   "metadata": {
    "id": "8PCIuzc8xgcP"
   },
   "outputs": [],
   "source": [
    "def word_frequency(sentence):\n",
    "  # joins all the sentenses\n",
    "    sentence =\" \".join(sentence)\n",
    "    new_tokens = word_tokenize(sentence)\n",
    "    counted = collections.Counter(new_tokens)\n",
    "    word_freq = pd.DataFrame(counted.items(),columns=['word','frequency']).sort_values(by='frequency',ascending=False)\n",
    "    return word_freq"
   ]
  },
  {
   "cell_type": "code",
   "execution_count": 39,
   "metadata": {
    "id": "QawycntVxghZ"
   },
   "outputs": [],
   "source": [
    "dash_list = new_set['Lemmatized preprocessed'].unique().tolist()"
   ]
  },
  {
   "cell_type": "code",
   "execution_count": 272,
   "metadata": {
    "id": "E1vZqde5IQn4"
   },
   "outputs": [],
   "source": [
    "# dash_list"
   ]
  },
  {
   "cell_type": "code",
   "execution_count": 40,
   "metadata": {
    "colab": {
     "base_uri": "https://localhost:8080/",
     "height": 419
    },
    "id": "67a4XKlUxglu",
    "outputId": "ac09bbce-3450-40f8-d3c0-82e740b8d80c"
   },
   "outputs": [
    {
     "data": {
      "text/html": [
       "<div>\n",
       "<style scoped>\n",
       "    .dataframe tbody tr th:only-of-type {\n",
       "        vertical-align: middle;\n",
       "    }\n",
       "\n",
       "    .dataframe tbody tr th {\n",
       "        vertical-align: top;\n",
       "    }\n",
       "\n",
       "    .dataframe thead th {\n",
       "        text-align: right;\n",
       "    }\n",
       "</style>\n",
       "<table border=\"1\" class=\"dataframe\">\n",
       "  <thead>\n",
       "    <tr style=\"text-align: right;\">\n",
       "      <th></th>\n",
       "      <th>word</th>\n",
       "      <th>frequency</th>\n",
       "    </tr>\n",
       "  </thead>\n",
       "  <tbody>\n",
       "    <tr>\n",
       "      <th>93</th>\n",
       "      <td>sale</td>\n",
       "      <td>49</td>\n",
       "    </tr>\n",
       "    <tr>\n",
       "      <th>2</th>\n",
       "      <td>order</td>\n",
       "      <td>49</td>\n",
       "    </tr>\n",
       "    <tr>\n",
       "      <th>98</th>\n",
       "      <td>forecast</td>\n",
       "      <td>40</td>\n",
       "    </tr>\n",
       "    <tr>\n",
       "      <th>305</th>\n",
       "      <td>week</td>\n",
       "      <td>39</td>\n",
       "    </tr>\n",
       "    <tr>\n",
       "      <th>124</th>\n",
       "      <td>customer</td>\n",
       "      <td>38</td>\n",
       "    </tr>\n",
       "    <tr>\n",
       "      <th>...</th>\n",
       "      <td>...</td>\n",
       "      <td>...</td>\n",
       "    </tr>\n",
       "    <tr>\n",
       "      <th>525</th>\n",
       "      <td>midrange</td>\n",
       "      <td>1</td>\n",
       "    </tr>\n",
       "    <tr>\n",
       "      <th>524</th>\n",
       "      <td>krogerfillratereport</td>\n",
       "      <td>1</td>\n",
       "    </tr>\n",
       "    <tr>\n",
       "      <th>523</th>\n",
       "      <td>information</td>\n",
       "      <td>1</td>\n",
       "    </tr>\n",
       "    <tr>\n",
       "      <th>521</th>\n",
       "      <td>paul</td>\n",
       "      <td>1</td>\n",
       "    </tr>\n",
       "    <tr>\n",
       "      <th>939</th>\n",
       "      <td>gf</td>\n",
       "      <td>1</td>\n",
       "    </tr>\n",
       "  </tbody>\n",
       "</table>\n",
       "<p>940 rows × 2 columns</p>\n",
       "</div>"
      ],
      "text/plain": [
       "                     word  frequency\n",
       "93                   sale         49\n",
       "2                   order         49\n",
       "98               forecast         40\n",
       "305                  week         39\n",
       "124              customer         38\n",
       "..                    ...        ...\n",
       "525              midrange          1\n",
       "524  krogerfillratereport          1\n",
       "523           information          1\n",
       "521                  paul          1\n",
       "939                    gf          1\n",
       "\n",
       "[940 rows x 2 columns]"
      ]
     },
     "execution_count": 40,
     "metadata": {},
     "output_type": "execute_result"
    }
   ],
   "source": [
    "word_freq = word_frequency(dash_list)\n",
    "word_freq"
   ]
  },
  {
   "cell_type": "code",
   "execution_count": 42,
   "metadata": {
    "id": "jY91V2DLxgo_"
   },
   "outputs": [],
   "source": [
    "word_freq.to_csv(\"vocabularycountfinal.csv\")"
   ]
  },
  {
   "cell_type": "markdown",
   "metadata": {
    "id": "D38XaS9R1A61"
   },
   "source": [
    "# tf-idf vectorizer\n"
   ]
  },
  {
   "cell_type": "code",
   "execution_count": 45,
   "metadata": {
    "colab": {
     "base_uri": "https://localhost:8080/"
    },
    "id": "bBSQRGKMyL2b",
    "outputId": "2e7a6808-646c-4f2e-dc3a-1b882257992e"
   },
   "outputs": [
    {
     "name": "stdout",
     "output_type": "stream",
     "text": [
      "Printing the DTM of the Train Data\n",
      "         abertos  account   accrual  accuracy  acre  acreage  act    action  \\\n",
      "Dash0        0.0      0.0  0.000000       0.0   0.0      0.0  0.0  0.000000   \n",
      "Dash1        0.0      0.0  0.000000       0.0   0.0      0.0  0.0  0.000000   \n",
      "Dash2        0.0      0.0  0.000000       0.0   0.0      0.0  0.0  0.000000   \n",
      "Dash3        0.0      0.0  0.000000       0.0   0.0      0.0  0.0  0.000000   \n",
      "Dash4        0.0      0.0  0.000000       0.0   0.0      0.0  0.0  0.000000   \n",
      "...          ...      ...       ...       ...   ...      ...  ...       ...   \n",
      "Dash992      0.0      0.0  0.000000       0.0   0.0      0.0  0.0  0.000000   \n",
      "Dash993      0.0      0.0  0.000000       0.0   0.0      0.0  0.0  0.472465   \n",
      "Dash994      0.0      0.0  0.000000       0.0   0.0      0.0  0.0  0.000000   \n",
      "Dash995      0.0      0.0  0.423439       0.0   0.0      0.0  0.0  0.000000   \n",
      "Dash996      0.0      0.0  0.000000       0.0   0.0      0.0  0.0  0.000000   \n",
      "\n",
      "         active  activity  ...  wrap  wsp  yago  year  yield  yoy  ytd  zac  \\\n",
      "Dash0       0.0       0.0  ...   0.0  0.0   0.0   0.0    0.0  0.0  0.0  0.0   \n",
      "Dash1       0.0       0.0  ...   0.0  0.0   0.0   0.0    0.0  0.0  0.0  0.0   \n",
      "Dash2       0.0       0.0  ...   0.0  0.0   0.0   0.0    0.0  0.0  0.0  0.0   \n",
      "Dash3       0.0       0.0  ...   0.0  0.0   0.0   0.0    0.0  0.0  0.0  0.0   \n",
      "Dash4       0.0       0.0  ...   0.0  0.0   0.0   0.0    0.0  0.0  0.0  0.0   \n",
      "...         ...       ...  ...   ...  ...   ...   ...    ...  ...  ...  ...   \n",
      "Dash992     0.0       0.0  ...   0.0  0.0   0.0   0.0    0.0  0.0  0.0  0.0   \n",
      "Dash993     0.0       0.0  ...   0.0  0.0   0.0   0.0    0.0  0.0  0.0  0.0   \n",
      "Dash994     0.0       0.0  ...   0.0  0.0   0.0   0.0    0.0  0.0  0.0  0.0   \n",
      "Dash995     0.0       0.0  ...   0.0  0.0   0.0   0.0    0.0  0.0  0.0  0.0   \n",
      "Dash996     0.0       0.0  ...   0.0  0.0   0.0   0.0    0.0  0.0  0.0  0.0   \n",
      "\n",
      "         zam  zamora  \n",
      "Dash0    0.0     0.0  \n",
      "Dash1    0.0     0.0  \n",
      "Dash2    0.0     0.0  \n",
      "Dash3    0.0     0.0  \n",
      "Dash4    0.0     0.0  \n",
      "...      ...     ...  \n",
      "Dash992  0.0     0.0  \n",
      "Dash993  0.0     0.0  \n",
      "Dash994  0.0     0.0  \n",
      "Dash995  0.0     0.0  \n",
      "Dash996  0.0     0.0  \n",
      "\n",
      "[997 rows x 931 columns]\n",
      "\n",
      "\n"
     ]
    }
   ],
   "source": [
    "tfidf = TfidfVectorizer()\n",
    "  # get tf-df values\n",
    "result = tfidf.fit_transform(new_set['Lemmatized preprocessed'].unique())\n",
    "  # representing in the format of a matrix\n",
    "td1 = pd.DataFrame(result.todense())  \n",
    "td1.columns = tfidf.get_feature_names()\n",
    "term_document_matrix1 = td1.T\n",
    "term_document_matrix1.columns = ['Dash'+str(i) for i in range(dim1)]\n",
    "new_mat= term_document_matrix1.transpose()\n",
    "print(\"Printing the DTM of the Train Data\")\n",
    "print(new_mat)\n",
    "print(\"\\n\")"
   ]
  },
  {
   "cell_type": "code",
   "execution_count": 46,
   "metadata": {
    "id": "HnmFFXTe1SqA"
   },
   "outputs": [],
   "source": [
    "di2=len(tfidf.get_feature_names())\n",
    "# finally converting into a array for the matrix\n",
    "matrix= result.toarray()\n",
    "tf_value=[]\n",
    "for i in matrix:\n",
    "    tf_value.append(i)"
   ]
  },
  {
   "cell_type": "code",
   "execution_count": 47,
   "metadata": {
    "colab": {
     "base_uri": "https://localhost:8080/"
    },
    "id": "agLcjdpkI_gL",
    "outputId": "e5b981c2-a5da-4675-b925-e2765c59f714"
   },
   "outputs": [
    {
     "data": {
      "text/plain": [
       "(997, 931)"
      ]
     },
     "execution_count": 47,
     "metadata": {},
     "output_type": "execute_result"
    }
   ],
   "source": [
    "matrix.shape"
   ]
  },
  {
   "cell_type": "code",
   "execution_count": 49,
   "metadata": {
    "colab": {
     "base_uri": "https://localhost:8080/"
    },
    "id": "lTVyrI7qHoOx",
    "outputId": "7cc8e5db-de59-4e39-bb93-2e1bcc9645f6"
   },
   "outputs": [
    {
     "data": {
      "text/plain": [
       "997"
      ]
     },
     "execution_count": 49,
     "metadata": {},
     "output_type": "execute_result"
    }
   ],
   "source": [
    "len(tf_value)"
   ]
  },
  {
   "cell_type": "code",
   "execution_count": 50,
   "metadata": {
    "id": "5CTBZSW36aUJ"
   },
   "outputs": [],
   "source": [
    "pickle.dump(tfidf, open(\"tfidf_entiredata_New.pkl\", \"wb\"))"
   ]
  },
  {
   "cell_type": "code",
   "execution_count": 51,
   "metadata": {
    "id": "42sygMC1-k3P"
   },
   "outputs": [],
   "source": [
    "td2=pd.DataFrame(new_mat)"
   ]
  },
  {
   "cell_type": "code",
   "execution_count": 52,
   "metadata": {
    "colab": {
     "base_uri": "https://localhost:8080/",
     "height": 439
    },
    "id": "2z1egGPjEPwv",
    "outputId": "6aa09e80-4fd7-4952-e135-06fbea03b07f"
   },
   "outputs": [
    {
     "data": {
      "text/html": [
       "<div>\n",
       "<style scoped>\n",
       "    .dataframe tbody tr th:only-of-type {\n",
       "        vertical-align: middle;\n",
       "    }\n",
       "\n",
       "    .dataframe tbody tr th {\n",
       "        vertical-align: top;\n",
       "    }\n",
       "\n",
       "    .dataframe thead th {\n",
       "        text-align: right;\n",
       "    }\n",
       "</style>\n",
       "<table border=\"1\" class=\"dataframe\">\n",
       "  <thead>\n",
       "    <tr style=\"text-align: right;\">\n",
       "      <th></th>\n",
       "      <th>abertos</th>\n",
       "      <th>account</th>\n",
       "      <th>accrual</th>\n",
       "      <th>accuracy</th>\n",
       "      <th>acre</th>\n",
       "      <th>acreage</th>\n",
       "      <th>act</th>\n",
       "      <th>action</th>\n",
       "      <th>active</th>\n",
       "      <th>activity</th>\n",
       "      <th>...</th>\n",
       "      <th>wrap</th>\n",
       "      <th>wsp</th>\n",
       "      <th>yago</th>\n",
       "      <th>year</th>\n",
       "      <th>yield</th>\n",
       "      <th>yoy</th>\n",
       "      <th>ytd</th>\n",
       "      <th>zac</th>\n",
       "      <th>zam</th>\n",
       "      <th>zamora</th>\n",
       "    </tr>\n",
       "  </thead>\n",
       "  <tbody>\n",
       "    <tr>\n",
       "      <th>Dash0</th>\n",
       "      <td>0.0</td>\n",
       "      <td>0.0</td>\n",
       "      <td>0.000000</td>\n",
       "      <td>0.0</td>\n",
       "      <td>0.0</td>\n",
       "      <td>0.0</td>\n",
       "      <td>0.0</td>\n",
       "      <td>0.000000</td>\n",
       "      <td>0.0</td>\n",
       "      <td>0.0</td>\n",
       "      <td>...</td>\n",
       "      <td>0.0</td>\n",
       "      <td>0.0</td>\n",
       "      <td>0.0</td>\n",
       "      <td>0.0</td>\n",
       "      <td>0.0</td>\n",
       "      <td>0.0</td>\n",
       "      <td>0.0</td>\n",
       "      <td>0.0</td>\n",
       "      <td>0.0</td>\n",
       "      <td>0.0</td>\n",
       "    </tr>\n",
       "    <tr>\n",
       "      <th>Dash1</th>\n",
       "      <td>0.0</td>\n",
       "      <td>0.0</td>\n",
       "      <td>0.000000</td>\n",
       "      <td>0.0</td>\n",
       "      <td>0.0</td>\n",
       "      <td>0.0</td>\n",
       "      <td>0.0</td>\n",
       "      <td>0.000000</td>\n",
       "      <td>0.0</td>\n",
       "      <td>0.0</td>\n",
       "      <td>...</td>\n",
       "      <td>0.0</td>\n",
       "      <td>0.0</td>\n",
       "      <td>0.0</td>\n",
       "      <td>0.0</td>\n",
       "      <td>0.0</td>\n",
       "      <td>0.0</td>\n",
       "      <td>0.0</td>\n",
       "      <td>0.0</td>\n",
       "      <td>0.0</td>\n",
       "      <td>0.0</td>\n",
       "    </tr>\n",
       "    <tr>\n",
       "      <th>Dash2</th>\n",
       "      <td>0.0</td>\n",
       "      <td>0.0</td>\n",
       "      <td>0.000000</td>\n",
       "      <td>0.0</td>\n",
       "      <td>0.0</td>\n",
       "      <td>0.0</td>\n",
       "      <td>0.0</td>\n",
       "      <td>0.000000</td>\n",
       "      <td>0.0</td>\n",
       "      <td>0.0</td>\n",
       "      <td>...</td>\n",
       "      <td>0.0</td>\n",
       "      <td>0.0</td>\n",
       "      <td>0.0</td>\n",
       "      <td>0.0</td>\n",
       "      <td>0.0</td>\n",
       "      <td>0.0</td>\n",
       "      <td>0.0</td>\n",
       "      <td>0.0</td>\n",
       "      <td>0.0</td>\n",
       "      <td>0.0</td>\n",
       "    </tr>\n",
       "    <tr>\n",
       "      <th>Dash3</th>\n",
       "      <td>0.0</td>\n",
       "      <td>0.0</td>\n",
       "      <td>0.000000</td>\n",
       "      <td>0.0</td>\n",
       "      <td>0.0</td>\n",
       "      <td>0.0</td>\n",
       "      <td>0.0</td>\n",
       "      <td>0.000000</td>\n",
       "      <td>0.0</td>\n",
       "      <td>0.0</td>\n",
       "      <td>...</td>\n",
       "      <td>0.0</td>\n",
       "      <td>0.0</td>\n",
       "      <td>0.0</td>\n",
       "      <td>0.0</td>\n",
       "      <td>0.0</td>\n",
       "      <td>0.0</td>\n",
       "      <td>0.0</td>\n",
       "      <td>0.0</td>\n",
       "      <td>0.0</td>\n",
       "      <td>0.0</td>\n",
       "    </tr>\n",
       "    <tr>\n",
       "      <th>Dash4</th>\n",
       "      <td>0.0</td>\n",
       "      <td>0.0</td>\n",
       "      <td>0.000000</td>\n",
       "      <td>0.0</td>\n",
       "      <td>0.0</td>\n",
       "      <td>0.0</td>\n",
       "      <td>0.0</td>\n",
       "      <td>0.000000</td>\n",
       "      <td>0.0</td>\n",
       "      <td>0.0</td>\n",
       "      <td>...</td>\n",
       "      <td>0.0</td>\n",
       "      <td>0.0</td>\n",
       "      <td>0.0</td>\n",
       "      <td>0.0</td>\n",
       "      <td>0.0</td>\n",
       "      <td>0.0</td>\n",
       "      <td>0.0</td>\n",
       "      <td>0.0</td>\n",
       "      <td>0.0</td>\n",
       "      <td>0.0</td>\n",
       "    </tr>\n",
       "    <tr>\n",
       "      <th>...</th>\n",
       "      <td>...</td>\n",
       "      <td>...</td>\n",
       "      <td>...</td>\n",
       "      <td>...</td>\n",
       "      <td>...</td>\n",
       "      <td>...</td>\n",
       "      <td>...</td>\n",
       "      <td>...</td>\n",
       "      <td>...</td>\n",
       "      <td>...</td>\n",
       "      <td>...</td>\n",
       "      <td>...</td>\n",
       "      <td>...</td>\n",
       "      <td>...</td>\n",
       "      <td>...</td>\n",
       "      <td>...</td>\n",
       "      <td>...</td>\n",
       "      <td>...</td>\n",
       "      <td>...</td>\n",
       "      <td>...</td>\n",
       "      <td>...</td>\n",
       "    </tr>\n",
       "    <tr>\n",
       "      <th>Dash992</th>\n",
       "      <td>0.0</td>\n",
       "      <td>0.0</td>\n",
       "      <td>0.000000</td>\n",
       "      <td>0.0</td>\n",
       "      <td>0.0</td>\n",
       "      <td>0.0</td>\n",
       "      <td>0.0</td>\n",
       "      <td>0.000000</td>\n",
       "      <td>0.0</td>\n",
       "      <td>0.0</td>\n",
       "      <td>...</td>\n",
       "      <td>0.0</td>\n",
       "      <td>0.0</td>\n",
       "      <td>0.0</td>\n",
       "      <td>0.0</td>\n",
       "      <td>0.0</td>\n",
       "      <td>0.0</td>\n",
       "      <td>0.0</td>\n",
       "      <td>0.0</td>\n",
       "      <td>0.0</td>\n",
       "      <td>0.0</td>\n",
       "    </tr>\n",
       "    <tr>\n",
       "      <th>Dash993</th>\n",
       "      <td>0.0</td>\n",
       "      <td>0.0</td>\n",
       "      <td>0.000000</td>\n",
       "      <td>0.0</td>\n",
       "      <td>0.0</td>\n",
       "      <td>0.0</td>\n",
       "      <td>0.0</td>\n",
       "      <td>0.472465</td>\n",
       "      <td>0.0</td>\n",
       "      <td>0.0</td>\n",
       "      <td>...</td>\n",
       "      <td>0.0</td>\n",
       "      <td>0.0</td>\n",
       "      <td>0.0</td>\n",
       "      <td>0.0</td>\n",
       "      <td>0.0</td>\n",
       "      <td>0.0</td>\n",
       "      <td>0.0</td>\n",
       "      <td>0.0</td>\n",
       "      <td>0.0</td>\n",
       "      <td>0.0</td>\n",
       "    </tr>\n",
       "    <tr>\n",
       "      <th>Dash994</th>\n",
       "      <td>0.0</td>\n",
       "      <td>0.0</td>\n",
       "      <td>0.000000</td>\n",
       "      <td>0.0</td>\n",
       "      <td>0.0</td>\n",
       "      <td>0.0</td>\n",
       "      <td>0.0</td>\n",
       "      <td>0.000000</td>\n",
       "      <td>0.0</td>\n",
       "      <td>0.0</td>\n",
       "      <td>...</td>\n",
       "      <td>0.0</td>\n",
       "      <td>0.0</td>\n",
       "      <td>0.0</td>\n",
       "      <td>0.0</td>\n",
       "      <td>0.0</td>\n",
       "      <td>0.0</td>\n",
       "      <td>0.0</td>\n",
       "      <td>0.0</td>\n",
       "      <td>0.0</td>\n",
       "      <td>0.0</td>\n",
       "    </tr>\n",
       "    <tr>\n",
       "      <th>Dash995</th>\n",
       "      <td>0.0</td>\n",
       "      <td>0.0</td>\n",
       "      <td>0.423439</td>\n",
       "      <td>0.0</td>\n",
       "      <td>0.0</td>\n",
       "      <td>0.0</td>\n",
       "      <td>0.0</td>\n",
       "      <td>0.000000</td>\n",
       "      <td>0.0</td>\n",
       "      <td>0.0</td>\n",
       "      <td>...</td>\n",
       "      <td>0.0</td>\n",
       "      <td>0.0</td>\n",
       "      <td>0.0</td>\n",
       "      <td>0.0</td>\n",
       "      <td>0.0</td>\n",
       "      <td>0.0</td>\n",
       "      <td>0.0</td>\n",
       "      <td>0.0</td>\n",
       "      <td>0.0</td>\n",
       "      <td>0.0</td>\n",
       "    </tr>\n",
       "    <tr>\n",
       "      <th>Dash996</th>\n",
       "      <td>0.0</td>\n",
       "      <td>0.0</td>\n",
       "      <td>0.000000</td>\n",
       "      <td>0.0</td>\n",
       "      <td>0.0</td>\n",
       "      <td>0.0</td>\n",
       "      <td>0.0</td>\n",
       "      <td>0.000000</td>\n",
       "      <td>0.0</td>\n",
       "      <td>0.0</td>\n",
       "      <td>...</td>\n",
       "      <td>0.0</td>\n",
       "      <td>0.0</td>\n",
       "      <td>0.0</td>\n",
       "      <td>0.0</td>\n",
       "      <td>0.0</td>\n",
       "      <td>0.0</td>\n",
       "      <td>0.0</td>\n",
       "      <td>0.0</td>\n",
       "      <td>0.0</td>\n",
       "      <td>0.0</td>\n",
       "    </tr>\n",
       "  </tbody>\n",
       "</table>\n",
       "<p>997 rows × 931 columns</p>\n",
       "</div>"
      ],
      "text/plain": [
       "         abertos  account   accrual  accuracy  acre  acreage  act    action  \\\n",
       "Dash0        0.0      0.0  0.000000       0.0   0.0      0.0  0.0  0.000000   \n",
       "Dash1        0.0      0.0  0.000000       0.0   0.0      0.0  0.0  0.000000   \n",
       "Dash2        0.0      0.0  0.000000       0.0   0.0      0.0  0.0  0.000000   \n",
       "Dash3        0.0      0.0  0.000000       0.0   0.0      0.0  0.0  0.000000   \n",
       "Dash4        0.0      0.0  0.000000       0.0   0.0      0.0  0.0  0.000000   \n",
       "...          ...      ...       ...       ...   ...      ...  ...       ...   \n",
       "Dash992      0.0      0.0  0.000000       0.0   0.0      0.0  0.0  0.000000   \n",
       "Dash993      0.0      0.0  0.000000       0.0   0.0      0.0  0.0  0.472465   \n",
       "Dash994      0.0      0.0  0.000000       0.0   0.0      0.0  0.0  0.000000   \n",
       "Dash995      0.0      0.0  0.423439       0.0   0.0      0.0  0.0  0.000000   \n",
       "Dash996      0.0      0.0  0.000000       0.0   0.0      0.0  0.0  0.000000   \n",
       "\n",
       "         active  activity  ...  wrap  wsp  yago  year  yield  yoy  ytd  zac  \\\n",
       "Dash0       0.0       0.0  ...   0.0  0.0   0.0   0.0    0.0  0.0  0.0  0.0   \n",
       "Dash1       0.0       0.0  ...   0.0  0.0   0.0   0.0    0.0  0.0  0.0  0.0   \n",
       "Dash2       0.0       0.0  ...   0.0  0.0   0.0   0.0    0.0  0.0  0.0  0.0   \n",
       "Dash3       0.0       0.0  ...   0.0  0.0   0.0   0.0    0.0  0.0  0.0  0.0   \n",
       "Dash4       0.0       0.0  ...   0.0  0.0   0.0   0.0    0.0  0.0  0.0  0.0   \n",
       "...         ...       ...  ...   ...  ...   ...   ...    ...  ...  ...  ...   \n",
       "Dash992     0.0       0.0  ...   0.0  0.0   0.0   0.0    0.0  0.0  0.0  0.0   \n",
       "Dash993     0.0       0.0  ...   0.0  0.0   0.0   0.0    0.0  0.0  0.0  0.0   \n",
       "Dash994     0.0       0.0  ...   0.0  0.0   0.0   0.0    0.0  0.0  0.0  0.0   \n",
       "Dash995     0.0       0.0  ...   0.0  0.0   0.0   0.0    0.0  0.0  0.0  0.0   \n",
       "Dash996     0.0       0.0  ...   0.0  0.0   0.0   0.0    0.0  0.0  0.0  0.0   \n",
       "\n",
       "         zam  zamora  \n",
       "Dash0    0.0     0.0  \n",
       "Dash1    0.0     0.0  \n",
       "Dash2    0.0     0.0  \n",
       "Dash3    0.0     0.0  \n",
       "Dash4    0.0     0.0  \n",
       "...      ...     ...  \n",
       "Dash992  0.0     0.0  \n",
       "Dash993  0.0     0.0  \n",
       "Dash994  0.0     0.0  \n",
       "Dash995  0.0     0.0  \n",
       "Dash996  0.0     0.0  \n",
       "\n",
       "[997 rows x 931 columns]"
      ]
     },
     "execution_count": 52,
     "metadata": {},
     "output_type": "execute_result"
    }
   ],
   "source": [
    "td2"
   ]
  },
  {
   "cell_type": "code",
   "execution_count": 53,
   "metadata": {
    "id": "ARoPFKr06Lq0"
   },
   "outputs": [],
   "source": [
    "#td2.to_csv(\"tf_idf_data.csv\")"
   ]
  },
  {
   "cell_type": "code",
   "execution_count": 54,
   "metadata": {
    "id": "8aL-Qudn-4GQ"
   },
   "outputs": [],
   "source": [
    "td2.reset_index(drop=False,inplace=True)"
   ]
  },
  {
   "cell_type": "code",
   "execution_count": 55,
   "metadata": {
    "colab": {
     "base_uri": "https://localhost:8080/",
     "height": 160
    },
    "id": "6DkKoD-TGmXA",
    "outputId": "22a251b3-2348-4451-98f4-a1f97e4a76e0"
   },
   "outputs": [
    {
     "data": {
      "text/html": [
       "<div>\n",
       "<style scoped>\n",
       "    .dataframe tbody tr th:only-of-type {\n",
       "        vertical-align: middle;\n",
       "    }\n",
       "\n",
       "    .dataframe tbody tr th {\n",
       "        vertical-align: top;\n",
       "    }\n",
       "\n",
       "    .dataframe thead th {\n",
       "        text-align: right;\n",
       "    }\n",
       "</style>\n",
       "<table border=\"1\" class=\"dataframe\">\n",
       "  <thead>\n",
       "    <tr style=\"text-align: right;\">\n",
       "      <th></th>\n",
       "      <th>level_0</th>\n",
       "      <th>abertos</th>\n",
       "      <th>account</th>\n",
       "      <th>accrual</th>\n",
       "      <th>accuracy</th>\n",
       "      <th>acre</th>\n",
       "      <th>acreage</th>\n",
       "      <th>act</th>\n",
       "      <th>action</th>\n",
       "      <th>active</th>\n",
       "      <th>...</th>\n",
       "      <th>wrap</th>\n",
       "      <th>wsp</th>\n",
       "      <th>yago</th>\n",
       "      <th>year</th>\n",
       "      <th>yield</th>\n",
       "      <th>yoy</th>\n",
       "      <th>ytd</th>\n",
       "      <th>zac</th>\n",
       "      <th>zam</th>\n",
       "      <th>zamora</th>\n",
       "    </tr>\n",
       "  </thead>\n",
       "  <tbody>\n",
       "    <tr>\n",
       "      <th>0</th>\n",
       "      <td>Dash0</td>\n",
       "      <td>0.0</td>\n",
       "      <td>0.0</td>\n",
       "      <td>0.0</td>\n",
       "      <td>0.0</td>\n",
       "      <td>0.0</td>\n",
       "      <td>0.0</td>\n",
       "      <td>0.0</td>\n",
       "      <td>0.0</td>\n",
       "      <td>0.0</td>\n",
       "      <td>...</td>\n",
       "      <td>0.0</td>\n",
       "      <td>0.0</td>\n",
       "      <td>0.0</td>\n",
       "      <td>0.0</td>\n",
       "      <td>0.0</td>\n",
       "      <td>0.0</td>\n",
       "      <td>0.0</td>\n",
       "      <td>0.0</td>\n",
       "      <td>0.0</td>\n",
       "      <td>0.0</td>\n",
       "    </tr>\n",
       "    <tr>\n",
       "      <th>1</th>\n",
       "      <td>Dash1</td>\n",
       "      <td>0.0</td>\n",
       "      <td>0.0</td>\n",
       "      <td>0.0</td>\n",
       "      <td>0.0</td>\n",
       "      <td>0.0</td>\n",
       "      <td>0.0</td>\n",
       "      <td>0.0</td>\n",
       "      <td>0.0</td>\n",
       "      <td>0.0</td>\n",
       "      <td>...</td>\n",
       "      <td>0.0</td>\n",
       "      <td>0.0</td>\n",
       "      <td>0.0</td>\n",
       "      <td>0.0</td>\n",
       "      <td>0.0</td>\n",
       "      <td>0.0</td>\n",
       "      <td>0.0</td>\n",
       "      <td>0.0</td>\n",
       "      <td>0.0</td>\n",
       "      <td>0.0</td>\n",
       "    </tr>\n",
       "  </tbody>\n",
       "</table>\n",
       "<p>2 rows × 932 columns</p>\n",
       "</div>"
      ],
      "text/plain": [
       "  level_0  abertos  account  accrual  accuracy  acre  acreage  act  action  \\\n",
       "0   Dash0      0.0      0.0      0.0       0.0   0.0      0.0  0.0     0.0   \n",
       "1   Dash1      0.0      0.0      0.0       0.0   0.0      0.0  0.0     0.0   \n",
       "\n",
       "   active  ...  wrap  wsp  yago  year  yield  yoy  ytd  zac  zam  zamora  \n",
       "0     0.0  ...   0.0  0.0   0.0   0.0    0.0  0.0  0.0  0.0  0.0     0.0  \n",
       "1     0.0  ...   0.0  0.0   0.0   0.0    0.0  0.0  0.0  0.0  0.0     0.0  \n",
       "\n",
       "[2 rows x 932 columns]"
      ]
     },
     "execution_count": 55,
     "metadata": {},
     "output_type": "execute_result"
    }
   ],
   "source": [
    "td2.head(2)"
   ]
  },
  {
   "cell_type": "code",
   "execution_count": 56,
   "metadata": {
    "colab": {
     "base_uri": "https://localhost:8080/",
     "height": 204
    },
    "id": "bPJhIDyxIJ6W",
    "outputId": "20d3cf50-bf08-46d7-e351-973d24d4312f"
   },
   "outputs": [
    {
     "data": {
      "text/html": [
       "<div>\n",
       "<style scoped>\n",
       "    .dataframe tbody tr th:only-of-type {\n",
       "        vertical-align: middle;\n",
       "    }\n",
       "\n",
       "    .dataframe tbody tr th {\n",
       "        vertical-align: top;\n",
       "    }\n",
       "\n",
       "    .dataframe thead th {\n",
       "        text-align: right;\n",
       "    }\n",
       "</style>\n",
       "<table border=\"1\" class=\"dataframe\">\n",
       "  <thead>\n",
       "    <tr style=\"text-align: right;\">\n",
       "      <th></th>\n",
       "      <th>Original Name</th>\n",
       "      <th>Dashboard Name</th>\n",
       "      <th>Masked Name</th>\n",
       "      <th>tf-idf</th>\n",
       "    </tr>\n",
       "  </thead>\n",
       "  <tbody>\n",
       "    <tr>\n",
       "      <th>0</th>\n",
       "      <td>Pallet Summary by Order by Day</td>\n",
       "      <td>pallet summary order day</td>\n",
       "      <td>Dash0</td>\n",
       "      <td>[0.0, 0.0, 0.0, 0.0, 0.0, 0.0, 0.0, 0.0, 0.0, ...</td>\n",
       "    </tr>\n",
       "    <tr>\n",
       "      <th>1</th>\n",
       "      <td>Degradings Detailed View</td>\n",
       "      <td>degradings detailed view</td>\n",
       "      <td>Dash1</td>\n",
       "      <td>[0.0, 0.0, 0.0, 0.0, 0.0, 0.0, 0.0, 0.0, 0.0, ...</td>\n",
       "    </tr>\n",
       "    <tr>\n",
       "      <th>2</th>\n",
       "      <td>Product Leader - Blueberries</td>\n",
       "      <td>product leader blueberry</td>\n",
       "      <td>Dash2</td>\n",
       "      <td>[0.0, 0.0, 0.0, 0.0, 0.0, 0.0, 0.0, 0.0, 0.0, ...</td>\n",
       "    </tr>\n",
       "    <tr>\n",
       "      <th>3</th>\n",
       "      <td>CHL Fruit Details</td>\n",
       "      <td>chl fruit detail</td>\n",
       "      <td>Dash3</td>\n",
       "      <td>[0.0, 0.0, 0.0, 0.0, 0.0, 0.0, 0.0, 0.0, 0.0, ...</td>\n",
       "    </tr>\n",
       "    <tr>\n",
       "      <th>4</th>\n",
       "      <td>Product Leader - Raspberries</td>\n",
       "      <td>product leader raspberry</td>\n",
       "      <td>Dash4</td>\n",
       "      <td>[0.0, 0.0, 0.0, 0.0, 0.0, 0.0, 0.0, 0.0, 0.0, ...</td>\n",
       "    </tr>\n",
       "  </tbody>\n",
       "</table>\n",
       "</div>"
      ],
      "text/plain": [
       "                    Original Name            Dashboard Name Masked Name  \\\n",
       "0  Pallet Summary by Order by Day  pallet summary order day       Dash0   \n",
       "1        Degradings Detailed View  degradings detailed view       Dash1   \n",
       "2    Product Leader - Blueberries  product leader blueberry       Dash2   \n",
       "3               CHL Fruit Details          chl fruit detail       Dash3   \n",
       "4    Product Leader - Raspberries  product leader raspberry       Dash4   \n",
       "\n",
       "                                              tf-idf  \n",
       "0  [0.0, 0.0, 0.0, 0.0, 0.0, 0.0, 0.0, 0.0, 0.0, ...  \n",
       "1  [0.0, 0.0, 0.0, 0.0, 0.0, 0.0, 0.0, 0.0, 0.0, ...  \n",
       "2  [0.0, 0.0, 0.0, 0.0, 0.0, 0.0, 0.0, 0.0, 0.0, ...  \n",
       "3  [0.0, 0.0, 0.0, 0.0, 0.0, 0.0, 0.0, 0.0, 0.0, ...  \n",
       "4  [0.0, 0.0, 0.0, 0.0, 0.0, 0.0, 0.0, 0.0, 0.0, ...  "
      ]
     },
     "execution_count": 56,
     "metadata": {},
     "output_type": "execute_result"
    }
   ],
   "source": [
    "td3=pd.DataFrame()\n",
    "td3['Original Name']=new_set['Dashboard Name']\n",
    "td3['Dashboard Name']=new_set['Lemmatized preprocessed']\n",
    "td3['Masked Name']=['Dash'+str(i) for i in range(dim1)]\n",
    "td3['tf-idf']=tf_value\n",
    "td3.head()"
   ]
  },
  {
   "cell_type": "code",
   "execution_count": 57,
   "metadata": {
    "colab": {
     "base_uri": "https://localhost:8080/"
    },
    "id": "iWfAYAj8CgIK",
    "outputId": "094ef63c-4643-4ebd-c401-32ca11081627"
   },
   "outputs": [
    {
     "data": {
      "text/plain": [
       "forecast actual harvest order              1\n",
       "plantación                                 1\n",
       "traceability order customer master name    1\n",
       "demea supply forecast performance          1\n",
       "dax certified receipt flash variance       1\n",
       "                                          ..\n",
       "growing degree day                         1\n",
       "limited edition reference                  1\n",
       "huddle berry                               1\n",
       "cmex black                                 1\n",
       "krogermasterreport                         1\n",
       "Name: Dashboard Name, Length: 997, dtype: int64"
      ]
     },
     "execution_count": 57,
     "metadata": {},
     "output_type": "execute_result"
    }
   ],
   "source": [
    "td3['Dashboard Name'].value_counts()"
   ]
  },
  {
   "cell_type": "code",
   "execution_count": 58,
   "metadata": {
    "colab": {
     "base_uri": "https://localhost:8080/"
    },
    "id": "71AFwODbIzuT",
    "outputId": "2d1e6e68-ffda-4865-b70d-a10536bded44"
   },
   "outputs": [
    {
     "data": {
      "text/plain": [
       "(997, 4)"
      ]
     },
     "execution_count": 58,
     "metadata": {},
     "output_type": "execute_result"
    }
   ],
   "source": [
    "td3.shape"
   ]
  },
  {
   "cell_type": "code",
   "execution_count": 60,
   "metadata": {},
   "outputs": [],
   "source": [
    "### read train data \n",
    "pre_train_sample = pd.read_csv(\"traindata_final.csv\")\n",
    "train_names = pre_train_sample['Original Name'].unique().tolist()"
   ]
  },
  {
   "cell_type": "code",
   "execution_count": 155,
   "metadata": {},
   "outputs": [],
   "source": [
    "new_train_samples = td3[td3['Original Name'].isin(train_names)].reset_index(drop=True)"
   ]
  },
  {
   "cell_type": "code",
   "execution_count": 156,
   "metadata": {},
   "outputs": [
    {
     "data": {
      "text/plain": [
       "(896, 4)"
      ]
     },
     "execution_count": 156,
     "metadata": {},
     "output_type": "execute_result"
    }
   ],
   "source": [
    "new_train_samples.shape"
   ]
  },
  {
   "cell_type": "code",
   "execution_count": 157,
   "metadata": {},
   "outputs": [
    {
     "data": {
      "text/html": [
       "<div>\n",
       "<style scoped>\n",
       "    .dataframe tbody tr th:only-of-type {\n",
       "        vertical-align: middle;\n",
       "    }\n",
       "\n",
       "    .dataframe tbody tr th {\n",
       "        vertical-align: top;\n",
       "    }\n",
       "\n",
       "    .dataframe thead th {\n",
       "        text-align: right;\n",
       "    }\n",
       "</style>\n",
       "<table border=\"1\" class=\"dataframe\">\n",
       "  <thead>\n",
       "    <tr style=\"text-align: right;\">\n",
       "      <th></th>\n",
       "      <th>Original Name</th>\n",
       "      <th>Dashboard Name</th>\n",
       "      <th>Masked Name</th>\n",
       "      <th>tf-idf</th>\n",
       "    </tr>\n",
       "  </thead>\n",
       "  <tbody>\n",
       "    <tr>\n",
       "      <th>0</th>\n",
       "      <td>Pallet Summary by Order by Day</td>\n",
       "      <td>pallet summary order day</td>\n",
       "      <td>Dash0</td>\n",
       "      <td>[0.0, 0.0, 0.0, 0.0, 0.0, 0.0, 0.0, 0.0, 0.0, ...</td>\n",
       "    </tr>\n",
       "    <tr>\n",
       "      <th>1</th>\n",
       "      <td>Product Leader - Blueberries</td>\n",
       "      <td>product leader blueberry</td>\n",
       "      <td>Dash2</td>\n",
       "      <td>[0.0, 0.0, 0.0, 0.0, 0.0, 0.0, 0.0, 0.0, 0.0, ...</td>\n",
       "    </tr>\n",
       "    <tr>\n",
       "      <th>2</th>\n",
       "      <td>CHL Fruit Details</td>\n",
       "      <td>chl fruit detail</td>\n",
       "      <td>Dash3</td>\n",
       "      <td>[0.0, 0.0, 0.0, 0.0, 0.0, 0.0, 0.0, 0.0, 0.0, ...</td>\n",
       "    </tr>\n",
       "    <tr>\n",
       "      <th>3</th>\n",
       "      <td>Product Leader - Raspberries</td>\n",
       "      <td>product leader raspberry</td>\n",
       "      <td>Dash4</td>\n",
       "      <td>[0.0, 0.0, 0.0, 0.0, 0.0, 0.0, 0.0, 0.0, 0.0, ...</td>\n",
       "    </tr>\n",
       "    <tr>\n",
       "      <th>4</th>\n",
       "      <td>OV - CMP Dashboard</td>\n",
       "      <td>ov cmp</td>\n",
       "      <td>Dash5</td>\n",
       "      <td>[0.0, 0.0, 0.0, 0.0, 0.0, 0.0, 0.0, 0.0, 0.0, ...</td>\n",
       "    </tr>\n",
       "    <tr>\n",
       "      <th>...</th>\n",
       "      <td>...</td>\n",
       "      <td>...</td>\n",
       "      <td>...</td>\n",
       "      <td>...</td>\n",
       "    </tr>\n",
       "    <tr>\n",
       "      <th>891</th>\n",
       "      <td>Widmann Analysis 2019  # pallets</td>\n",
       "      <td>widmann analysis pallet</td>\n",
       "      <td>Dash989</td>\n",
       "      <td>[0.0, 0.0, 0.0, 0.0, 0.0, 0.0, 0.0, 0.0, 0.0, ...</td>\n",
       "    </tr>\n",
       "    <tr>\n",
       "      <th>892</th>\n",
       "      <td>OV - DEMEA Quality Allocation</td>\n",
       "      <td>ov demea quality allocation</td>\n",
       "      <td>Dash991</td>\n",
       "      <td>[0.0, 0.0, 0.0, 0.0, 0.0, 0.0, 0.0, 0.0, 0.0, ...</td>\n",
       "    </tr>\n",
       "    <tr>\n",
       "      <th>893</th>\n",
       "      <td>Blueberry Report by Pack</td>\n",
       "      <td>blueberry pack</td>\n",
       "      <td>Dash992</td>\n",
       "      <td>[0.0, 0.0, 0.0, 0.0, 0.0, 0.0, 0.0, 0.0, 0.0, ...</td>\n",
       "    </tr>\n",
       "    <tr>\n",
       "      <th>894</th>\n",
       "      <td>Daily Pulse</td>\n",
       "      <td>daily pulse</td>\n",
       "      <td>Dash994</td>\n",
       "      <td>[0.0, 0.0, 0.0, 0.0, 0.0, 0.0, 0.0, 0.0, 0.0, ...</td>\n",
       "    </tr>\n",
       "    <tr>\n",
       "      <th>895</th>\n",
       "      <td>Defects Table</td>\n",
       "      <td>defect table</td>\n",
       "      <td>Dash996</td>\n",
       "      <td>[0.0, 0.0, 0.0, 0.0, 0.0, 0.0, 0.0, 0.0, 0.0, ...</td>\n",
       "    </tr>\n",
       "  </tbody>\n",
       "</table>\n",
       "<p>896 rows × 4 columns</p>\n",
       "</div>"
      ],
      "text/plain": [
       "                        Original Name               Dashboard Name  \\\n",
       "0      Pallet Summary by Order by Day     pallet summary order day   \n",
       "1        Product Leader - Blueberries     product leader blueberry   \n",
       "2                   CHL Fruit Details             chl fruit detail   \n",
       "3        Product Leader - Raspberries     product leader raspberry   \n",
       "4                  OV - CMP Dashboard                       ov cmp   \n",
       "..                                ...                          ...   \n",
       "891  Widmann Analysis 2019  # pallets      widmann analysis pallet   \n",
       "892     OV - DEMEA Quality Allocation  ov demea quality allocation   \n",
       "893          Blueberry Report by Pack               blueberry pack   \n",
       "894                       Daily Pulse                  daily pulse   \n",
       "895                     Defects Table                 defect table   \n",
       "\n",
       "    Masked Name                                             tf-idf  \n",
       "0         Dash0  [0.0, 0.0, 0.0, 0.0, 0.0, 0.0, 0.0, 0.0, 0.0, ...  \n",
       "1         Dash2  [0.0, 0.0, 0.0, 0.0, 0.0, 0.0, 0.0, 0.0, 0.0, ...  \n",
       "2         Dash3  [0.0, 0.0, 0.0, 0.0, 0.0, 0.0, 0.0, 0.0, 0.0, ...  \n",
       "3         Dash4  [0.0, 0.0, 0.0, 0.0, 0.0, 0.0, 0.0, 0.0, 0.0, ...  \n",
       "4         Dash5  [0.0, 0.0, 0.0, 0.0, 0.0, 0.0, 0.0, 0.0, 0.0, ...  \n",
       "..          ...                                                ...  \n",
       "891     Dash989  [0.0, 0.0, 0.0, 0.0, 0.0, 0.0, 0.0, 0.0, 0.0, ...  \n",
       "892     Dash991  [0.0, 0.0, 0.0, 0.0, 0.0, 0.0, 0.0, 0.0, 0.0, ...  \n",
       "893     Dash992  [0.0, 0.0, 0.0, 0.0, 0.0, 0.0, 0.0, 0.0, 0.0, ...  \n",
       "894     Dash994  [0.0, 0.0, 0.0, 0.0, 0.0, 0.0, 0.0, 0.0, 0.0, ...  \n",
       "895     Dash996  [0.0, 0.0, 0.0, 0.0, 0.0, 0.0, 0.0, 0.0, 0.0, ...  \n",
       "\n",
       "[896 rows x 4 columns]"
      ]
     },
     "execution_count": 157,
     "metadata": {},
     "output_type": "execute_result"
    }
   ],
   "source": [
    "new_train_samples"
   ]
  },
  {
   "cell_type": "code",
   "execution_count": 335,
   "metadata": {},
   "outputs": [],
   "source": [
    "new_test_samples = td3[~td3['Original Name'].isin(train_names)].reset_index(drop=True)"
   ]
  },
  {
   "cell_type": "code",
   "execution_count": 336,
   "metadata": {},
   "outputs": [
    {
     "data": {
      "text/plain": [
       "(101, 4)"
      ]
     },
     "execution_count": 336,
     "metadata": {},
     "output_type": "execute_result"
    }
   ],
   "source": [
    "new_test_samples.shape"
   ]
  },
  {
   "cell_type": "code",
   "execution_count": 337,
   "metadata": {},
   "outputs": [
    {
     "data": {
      "text/html": [
       "<div>\n",
       "<style scoped>\n",
       "    .dataframe tbody tr th:only-of-type {\n",
       "        vertical-align: middle;\n",
       "    }\n",
       "\n",
       "    .dataframe tbody tr th {\n",
       "        vertical-align: top;\n",
       "    }\n",
       "\n",
       "    .dataframe thead th {\n",
       "        text-align: right;\n",
       "    }\n",
       "</style>\n",
       "<table border=\"1\" class=\"dataframe\">\n",
       "  <thead>\n",
       "    <tr style=\"text-align: right;\">\n",
       "      <th></th>\n",
       "      <th>Original Name</th>\n",
       "      <th>Dashboard Name</th>\n",
       "      <th>Masked Name</th>\n",
       "      <th>tf-idf</th>\n",
       "    </tr>\n",
       "  </thead>\n",
       "  <tbody>\n",
       "    <tr>\n",
       "      <th>0</th>\n",
       "      <td>Degradings Detailed View</td>\n",
       "      <td>degradings detailed view</td>\n",
       "      <td>Dash1</td>\n",
       "      <td>[0.0, 0.0, 0.0, 0.0, 0.0, 0.0, 0.0, 0.0, 0.0, ...</td>\n",
       "    </tr>\n",
       "    <tr>\n",
       "      <th>1</th>\n",
       "      <td>Grower Economics - weekly supply</td>\n",
       "      <td>grower economics weekly supply</td>\n",
       "      <td>Dash14</td>\n",
       "      <td>[0.0, 0.0, 0.0, 0.0, 0.0, 0.0, 0.0, 0.0, 0.0, ...</td>\n",
       "    </tr>\n",
       "    <tr>\n",
       "      <th>2</th>\n",
       "      <td>Nursery Order Status Report</td>\n",
       "      <td>nursery order status</td>\n",
       "      <td>Dash27</td>\n",
       "      <td>[0.0, 0.0, 0.0, 0.0, 0.0, 0.0, 0.0, 0.0, 0.0, ...</td>\n",
       "    </tr>\n",
       "    <tr>\n",
       "      <th>3</th>\n",
       "      <td>Pricing - PPV</td>\n",
       "      <td>pricing ppv</td>\n",
       "      <td>Dash31</td>\n",
       "      <td>[0.0, 0.0, 0.0, 0.0, 0.0, 0.0, 0.0, 0.0, 0.0, ...</td>\n",
       "    </tr>\n",
       "    <tr>\n",
       "      <th>4</th>\n",
       "      <td>Casey Report</td>\n",
       "      <td>casey</td>\n",
       "      <td>Dash45</td>\n",
       "      <td>[0.0, 0.0, 0.0, 0.0, 0.0, 0.0, 0.0, 0.0, 0.0, ...</td>\n",
       "    </tr>\n",
       "    <tr>\n",
       "      <th>...</th>\n",
       "      <td>...</td>\n",
       "      <td>...</td>\n",
       "      <td>...</td>\n",
       "      <td>...</td>\n",
       "    </tr>\n",
       "    <tr>\n",
       "      <th>96</th>\n",
       "      <td>Report carrier volume  PRT-ESP-MOR</td>\n",
       "      <td>carrier volume prt esp mor</td>\n",
       "      <td>Dash981</td>\n",
       "      <td>[0.0, 0.0, 0.0, 0.0, 0.0, 0.0, 0.0, 0.0, 0.0, ...</td>\n",
       "    </tr>\n",
       "    <tr>\n",
       "      <th>97</th>\n",
       "      <td>KGs Diarios por armazém</td>\n",
       "      <td>kg diarios por armazém</td>\n",
       "      <td>Dash985</td>\n",
       "      <td>[0.0, 0.0, 0.0, 0.0, 0.0, 0.0, 0.0, 0.0, 0.0, ...</td>\n",
       "    </tr>\n",
       "    <tr>\n",
       "      <th>98</th>\n",
       "      <td>OV - Sample Weights</td>\n",
       "      <td>ov sample weight</td>\n",
       "      <td>Dash990</td>\n",
       "      <td>[0.0, 0.0, 0.0, 0.0, 0.0, 0.0, 0.0, 0.0, 0.0, ...</td>\n",
       "    </tr>\n",
       "    <tr>\n",
       "      <th>99</th>\n",
       "      <td>Blackberry Daily Harvest Order Action Strategy</td>\n",
       "      <td>blackberry daily harvest order action strategy</td>\n",
       "      <td>Dash993</td>\n",
       "      <td>[0.0, 0.0, 0.0, 0.0, 0.0, 0.0, 0.0, 0.47246535...</td>\n",
       "    </tr>\n",
       "    <tr>\n",
       "      <th>100</th>\n",
       "      <td>Dax Certified Receipts for Month End Accrual G...</td>\n",
       "      <td>dax certified receipt month end accrual gf</td>\n",
       "      <td>Dash995</td>\n",
       "      <td>[0.0, 0.0, 0.42343946583789743, 0.0, 0.0, 0.0,...</td>\n",
       "    </tr>\n",
       "  </tbody>\n",
       "</table>\n",
       "<p>101 rows × 4 columns</p>\n",
       "</div>"
      ],
      "text/plain": [
       "                                         Original Name  \\\n",
       "0                             Degradings Detailed View   \n",
       "1                     Grower Economics - weekly supply   \n",
       "2                          Nursery Order Status Report   \n",
       "3                                        Pricing - PPV   \n",
       "4                                         Casey Report   \n",
       "..                                                 ...   \n",
       "96                  Report carrier volume  PRT-ESP-MOR   \n",
       "97                             KGs Diarios por armazém   \n",
       "98                                 OV - Sample Weights   \n",
       "99      Blackberry Daily Harvest Order Action Strategy   \n",
       "100  Dax Certified Receipts for Month End Accrual G...   \n",
       "\n",
       "                                     Dashboard Name Masked Name  \\\n",
       "0                          degradings detailed view       Dash1   \n",
       "1                    grower economics weekly supply      Dash14   \n",
       "2                              nursery order status      Dash27   \n",
       "3                                       pricing ppv      Dash31   \n",
       "4                                             casey      Dash45   \n",
       "..                                              ...         ...   \n",
       "96                       carrier volume prt esp mor     Dash981   \n",
       "97                           kg diarios por armazém     Dash985   \n",
       "98                                 ov sample weight     Dash990   \n",
       "99   blackberry daily harvest order action strategy     Dash993   \n",
       "100      dax certified receipt month end accrual gf     Dash995   \n",
       "\n",
       "                                                tf-idf  \n",
       "0    [0.0, 0.0, 0.0, 0.0, 0.0, 0.0, 0.0, 0.0, 0.0, ...  \n",
       "1    [0.0, 0.0, 0.0, 0.0, 0.0, 0.0, 0.0, 0.0, 0.0, ...  \n",
       "2    [0.0, 0.0, 0.0, 0.0, 0.0, 0.0, 0.0, 0.0, 0.0, ...  \n",
       "3    [0.0, 0.0, 0.0, 0.0, 0.0, 0.0, 0.0, 0.0, 0.0, ...  \n",
       "4    [0.0, 0.0, 0.0, 0.0, 0.0, 0.0, 0.0, 0.0, 0.0, ...  \n",
       "..                                                 ...  \n",
       "96   [0.0, 0.0, 0.0, 0.0, 0.0, 0.0, 0.0, 0.0, 0.0, ...  \n",
       "97   [0.0, 0.0, 0.0, 0.0, 0.0, 0.0, 0.0, 0.0, 0.0, ...  \n",
       "98   [0.0, 0.0, 0.0, 0.0, 0.0, 0.0, 0.0, 0.0, 0.0, ...  \n",
       "99   [0.0, 0.0, 0.0, 0.0, 0.0, 0.0, 0.0, 0.47246535...  \n",
       "100  [0.0, 0.0, 0.42343946583789743, 0.0, 0.0, 0.0,...  \n",
       "\n",
       "[101 rows x 4 columns]"
      ]
     },
     "execution_count": 337,
     "metadata": {},
     "output_type": "execute_result"
    }
   ],
   "source": [
    "new_test_samples"
   ]
  },
  {
   "cell_type": "code",
   "execution_count": 138,
   "metadata": {
    "id": "bSCAOb5Rx3lN"
   },
   "outputs": [],
   "source": [
    "tfidf_result=[]\n",
    "for i in new_train_samples['tf-idf']:\n",
    "    tfidf_result.append(i)"
   ]
  },
  {
   "cell_type": "code",
   "execution_count": 139,
   "metadata": {
    "id": "7073JciNSkUB"
   },
   "outputs": [
    {
     "data": {
      "text/plain": [
       "896"
      ]
     },
     "execution_count": 139,
     "metadata": {},
     "output_type": "execute_result"
    }
   ],
   "source": [
    "len(tfidf_result)"
   ]
  },
  {
   "cell_type": "markdown",
   "metadata": {
    "id": "IubohQGQissY"
   },
   "source": [
    "# PCA on the matric to reduce the curse of dimentionality"
   ]
  },
  {
   "cell_type": "code",
   "execution_count": 376,
   "metadata": {
    "colab": {
     "base_uri": "https://localhost:8080/",
     "height": 1000
    },
    "id": "324RG405GHmk",
    "outputId": "09084805-dd02-4eb9-f5d2-aec0b7274e16"
   },
   "outputs": [
    {
     "name": "stdout",
     "output_type": "stream",
     "text": [
      "[0.01132995 0.02228516 0.0326172  0.04238245 0.05160599 0.06043631\n",
      " 0.06874922 0.07678733 0.08448231 0.09178961 0.09903045 0.10611152\n",
      " 0.11298873 0.11962285 0.1261476  0.13251553 0.13868399 0.14480457\n",
      " 0.15078889 0.15667803 0.16243141 0.16814568 0.17368901 0.1791671\n",
      " 0.18455123 0.18989049 0.19517508 0.20037919 0.20556301 0.21063247\n",
      " 0.21566358 0.22063361 0.22556858 0.23045144 0.23522077 0.2399245\n",
      " 0.24457322 0.24913347 0.25368149 0.25814723 0.26258213 0.26699152\n",
      " 0.27133502 0.27560121 0.27983895 0.28403746 0.28821624 0.29236578\n",
      " 0.29648988 0.30057997 0.30464052 0.30865769 0.31260999 0.31655294\n",
      " 0.32044219 0.32431476 0.3281611  0.33199333 0.3357949  0.33958148\n",
      " 0.34331392 0.34700875 0.35069377 0.35434018 0.35796599 0.36154424\n",
      " 0.36508017 0.36859373 0.37207641 0.3755351  0.3789866  0.38239116\n",
      " 0.38578565 0.38914804 0.39249984 0.39580614 0.39909284 0.4023487\n",
      " 0.40554446 0.40873009 0.41190278 0.41505522 0.41817193 0.42127087\n",
      " 0.42434341 0.42737727 0.43038334 0.43335722 0.43632508 0.43927288\n",
      " 0.44218834 0.44508688 0.4479693  0.45082561 0.45366253 0.45648521\n",
      " 0.45928786 0.46207109 0.46483367 0.46757967 0.47030778 0.47302045\n",
      " 0.47571153 0.47838825 0.48103506 0.4836644  0.48629299 0.48889795\n",
      " 0.49148878 0.49405485 0.49661179 0.4991431  0.50166877 0.50417445\n",
      " 0.5066743  0.50914108 0.51160624 0.51405524 0.51648677 0.51890199\n",
      " 0.52131288 0.52370016 0.52606529 0.52841927 0.53076807 0.53310596\n",
      " 0.53542088 0.53771447 0.539997   0.54226312 0.54452164 0.54677684\n",
      " 0.54900473 0.55119954 0.55337878 0.55554693 0.55769834 0.5598366\n",
      " 0.56196669 0.56408741 0.56619869 0.56828722 0.57036504 0.57243068\n",
      " 0.57448256 0.5765305  0.57856891 0.58059781 0.58260422 0.58460181\n",
      " 0.58658161 0.58854823 0.59049939 0.59242776 0.59434608 0.59625284\n",
      " 0.59815165 0.60004289 0.60192895 0.60380512 0.60567781 0.60754303\n",
      " 0.6093877  0.61122647 0.61306244 0.61488145 0.61669941 0.61850181\n",
      " 0.62030215 0.62209131 0.62387173 0.62563897 0.627402   0.62915744\n",
      " 0.63091018 0.63265743 0.63439422 0.63612213 0.63784818 0.63956583\n",
      " 0.64128125 0.64298346 0.64468132 0.64636563 0.64804656 0.64971346\n",
      " 0.65137673 0.65303744 0.6546935  0.65634631 0.65798651 0.659614\n",
      " 0.66123798 0.66285663 0.66446273 0.66606629 0.6676679  0.66926227\n",
      " 0.67085133 0.67243418 0.6740136  0.67558618 0.6771506  0.67871001\n",
      " 0.68025922 0.68180306 0.6833377  0.68486767 0.68639065 0.68790381\n",
      " 0.68940804 0.6909085  0.69239981 0.6938881  0.69536424 0.69683282\n",
      " 0.69828816 0.69974101 0.70118316 0.70261409 0.70404356 0.70546537\n",
      " 0.70686304 0.70825167 0.7096306  0.71100472 0.71237551 0.71374051\n",
      " 0.71510208 0.71645623 0.71779718 0.71913552 0.72046143 0.72178355\n",
      " 0.72309985 0.7244124  0.72571444 0.72701026 0.72829682 0.72957869\n",
      " 0.73085145 0.73212285 0.73338692 0.73464491 0.73589737 0.7371479\n",
      " 0.73838834 0.73962791 0.74085824 0.74208127 0.74330289 0.74452114\n",
      " 0.74573185 0.7469414  0.7481413  0.74933473 0.75051845 0.75169857\n",
      " 0.75286774 0.75403612 0.75520146 0.75636094 0.75751898 0.75866939\n",
      " 0.75981311 0.76095426 0.76209159 0.76322292 0.76434438 0.76546394\n",
      " 0.76657907 0.76768496 0.76879052 0.76988822 0.77097589 0.77205968\n",
      " 0.77313857 0.77421518 0.7752863  0.77635595 0.77742499 0.77849403\n",
      " 0.77956307 0.78063211 0.78170115 0.78277019 0.78383923 0.78490827\n",
      " 0.78597731 0.78704635 0.78811539 0.78918442 0.79025346 0.7913225\n",
      " 0.79239154 0.79346058 0.79452962 0.79559866 0.79666137 0.79771864\n",
      " 0.79877555 0.79982913 0.80087912 0.80191913 0.80295771 0.80399609\n",
      " 0.80502888 0.8060564  0.80708261 0.80810418 0.80912115 0.81013385\n",
      " 0.81114213 0.81214144 0.81313845 0.81413098 0.81511961 0.81609945\n",
      " 0.81707861 0.81805046 0.81901603 0.81997672 0.82093327 0.82188731\n",
      " 0.82283724 0.8237806  0.82472044 0.82565313 0.82658412 0.82751266\n",
      " 0.82843858 0.82935815 0.83027229 0.83118537 0.83209206 0.83299015\n",
      " 0.8338827  0.83477411 0.83566229 0.83654342 0.83742145 0.83829321\n",
      " 0.83915821 0.84002091 0.84087873 0.84173268 0.842582   0.84342355\n",
      " 0.84426144 0.8450918  0.84591825 0.84673863 0.84755724 0.84837455\n",
      " 0.849188   0.84999702 0.8508002  0.85160228 0.85239666 0.85318733\n",
      " 0.85397341 0.85475405 0.85553313 0.85631097 0.85708769 0.85786212\n",
      " 0.85862812 0.85939156 0.86014931 0.86090632 0.86165525 0.86240283\n",
      " 0.8631464  0.86388514 0.86461971 0.86535138 0.86607564 0.86679721\n",
      " 0.86751079 0.86821952 0.86892545 0.86962891 0.87032728 0.87102369\n",
      " 0.87171468 0.8724038  0.87308856 0.87376853 0.87444481 0.87511623\n",
      " 0.87578523 0.8764511  0.87711124 0.87776772 0.87841855 0.87906493\n",
      " 0.87970862 0.88034954 0.88098437 0.88161749 0.88224473 0.88287035\n",
      " 0.88348948 0.88410369 0.88471495 0.88532615 0.88593439 0.88653366\n",
      " 0.8871323  0.88772388 0.88831281 0.88889781 0.88948004 0.89006024\n",
      " 0.8906304  0.89119372 0.89175468 0.89231248 0.89286682 0.89341867\n",
      " 0.89396699 0.89451026 0.89505151 0.89559017 0.89612469 0.89665921\n",
      " 0.89719373 0.89772825 0.89826277 0.89879729 0.89933181 0.89986633\n",
      " 0.90040085 0.90093536 0.90146988 0.9020044  0.90253892 0.90307344\n",
      " 0.90360796 0.90414248 0.904677   0.90521152 0.90574604 0.90628056\n",
      " 0.90681508 0.9073496  0.90788412 0.90841864 0.90895316 0.90948768\n",
      " 0.9100222  0.91055672 0.91109124 0.91162576 0.91216028 0.9126948\n",
      " 0.91322932 0.91376384 0.91429836 0.91483288 0.9153674  0.91590192\n",
      " 0.91643644 0.91697096 0.91750548 0.91804    0.91857452 0.91910904\n",
      " 0.91964356 0.92017808 0.9207126  0.92124712 0.92178164 0.92231616\n",
      " 0.92285068 0.9233852  0.92391972 0.92445424 0.92498876 0.92552328\n",
      " 0.9260578  0.92659232 0.92712684 0.92766136 0.92819588 0.9287304\n",
      " 0.92926492 0.92979944 0.93033396 0.93086848 0.931403   0.93193751\n",
      " 0.93247203 0.93300655 0.93354107 0.93407559 0.93461011 0.93514463\n",
      " 0.93567915 0.93621367 0.93674819 0.93728271 0.93781723 0.93835175\n",
      " 0.93888627 0.93942079 0.93995531 0.94048983 0.94102435 0.94155887\n",
      " 0.94209211 0.9426201  0.94314473 0.94366828 0.94419123 0.94471242\n",
      " 0.94523203 0.94574927 0.9462651  0.94677775 0.94728921 0.94779977\n",
      " 0.94830632 0.94881006 0.94931182 0.94981245 0.95030885 0.95080193\n",
      " 0.95129382 0.95178343 0.95227144 0.95275768 0.95324258 0.95372634\n",
      " 0.95420468 0.95468093 0.95515359 0.9556251  0.95609529 0.95656444\n",
      " 0.95702974 0.95749198 0.95795089 0.95840846 0.95886432 0.95931588\n",
      " 0.95976625 0.96021305 0.96065822 0.96109903 0.96153691 0.961973\n",
      " 0.9624078  0.96284105 0.96327191 0.96369815 0.96412316 0.96454528\n",
      " 0.9649653  0.96538363 0.96579901 0.96621263 0.9666253  0.96703582\n",
      " 0.96744515 0.96785148 0.96825521 0.96865257 0.96904817 0.96944035\n",
      " 0.96982973 0.97021671 0.97060366 0.97098624 0.97136831 0.9717469\n",
      " 0.97211937 0.97249063 0.9728598  0.97322765 0.97359184 0.97395371\n",
      " 0.97431318 0.97467171 0.97502443 0.9753759  0.97572154 0.97606582\n",
      " 0.97640741 0.97674539 0.97708113 0.97741431 0.9777442  0.97807091\n",
      " 0.97839418 0.97871428 0.97903287 0.97934802 0.97966027 0.97996897\n",
      " 0.98027136 0.98057318 0.98087367 0.98117205 0.98146865 0.98176375\n",
      " 0.98205447 0.98234264 0.98262954 0.98291468 0.98319818 0.9834772\n",
      " 0.98375539 0.98402721 0.98429822 0.98456622 0.98483173 0.98509336\n",
      " 0.98535226 0.98561054 0.9858666  0.98611976 0.98637034 0.98661919\n",
      " 0.98686668 0.98711078 0.98735407 0.9875937  0.98783012 0.98806521\n",
      " 0.98829786 0.98852805 0.98875449 0.98897996 0.98920397 0.98942603\n",
      " 0.98964453 0.98986159 0.99007485 0.99028776 0.99049841 0.99070779\n",
      " 0.99091287 0.99111594 0.99131804 0.99151743 0.99171398 0.99190933\n",
      " 0.99210243 0.99229118 0.99247912 0.99266482 0.99284982 0.99303139\n",
      " 0.99321138 0.99338938 0.99356444 0.99373654 0.99390729 0.99407456\n",
      " 0.99424068 0.99440517 0.99456896 0.99473069 0.99489024 0.99504599\n",
      " 0.99519999 0.99535114 0.99550097 0.99564854 0.99579073 0.9959305\n",
      " 0.99606918 0.99620764 0.99633951 0.99647057 0.99659674 0.99672202\n",
      " 0.99684592 0.99696754 0.9970871  0.99720565 0.99732163 0.99743716\n",
      " 0.99754952 0.99766108 0.99776916 0.99787559 0.99798106 0.99808514\n",
      " 0.99818379 0.99828219 0.99837744 0.99847112 0.99856281 0.99865189\n",
      " 0.99873814 0.9988223  0.99890183 0.9989774  0.99905024 0.99912178\n",
      " 0.99918899 0.99925157 0.99931167 0.99936908 0.99942489 0.99947914\n",
      " 0.99953003 0.99957874 0.99962695 0.99967387 0.99971825 0.99975873\n",
      " 0.99979727 0.99983085 0.99986043 0.99988749 0.99991037 0.99993113\n",
      " 0.99995111 0.99996855 0.99998321 0.9999924  1.         1.\n",
      " 1.         1.         1.         1.         1.         1.\n",
      " 1.         1.         1.         1.         1.         1.\n",
      " 1.         1.         1.         1.         1.         1.\n",
      " 1.         1.         1.         1.         1.         1.\n",
      " 1.         1.         1.         1.         1.         1.\n",
      " 1.         1.         1.         1.         1.         1.\n",
      " 1.         1.         1.         1.         1.         1.\n",
      " 1.         1.         1.         1.         1.         1.\n",
      " 1.         1.         1.         1.         1.         1.\n",
      " 1.         1.         1.         1.         1.         1.\n",
      " 1.         1.         1.         1.         1.         1.\n",
      " 1.         1.         1.         1.         1.         1.\n",
      " 1.         1.         1.         1.         1.         1.\n",
      " 1.         1.         1.         1.         1.         1.\n",
      " 1.         1.         1.         1.         1.         1.\n",
      " 1.         1.         1.         1.         1.         1.\n",
      " 1.         1.         1.         1.         1.         1.\n",
      " 1.         1.         1.         1.         1.         1.\n",
      " 1.         1.         1.         1.         1.         1.\n",
      " 1.         1.         1.         1.         1.         1.\n",
      " 1.         1.         1.         1.         1.         1.\n",
      " 1.         1.         1.         1.         1.         1.\n",
      " 1.         1.         1.         1.         1.         1.\n",
      " 1.         1.         1.         1.         1.         1.\n",
      " 1.         1.         1.         1.         1.         1.\n",
      " 1.         1.         1.         1.         1.         1.\n",
      " 1.         1.         1.         1.         1.         1.\n",
      " 1.         1.         1.         1.         1.         1.\n",
      " 1.         1.        ]\n"
     ]
    },
    {
     "data": {
      "image/png": "[encoded data removed]",
      "text/plain": [
       "<Figure size 720x576 with 1 Axes>"
      ]
     },
     "metadata": {
      "needs_background": "light"
     },
     "output_type": "display_data"
    }
   ],
   "source": [
    "# scaling=StandardScaler()\n",
    " \n",
    "# # Use fit and transform method\n",
    "# scaling.fit(tfidf_result)\n",
    "# Scaled_data=scaling.transform(tfidf_result)\n",
    "\n",
    "from sklearn.preprocessing import MinMaxScaler\n",
    "scaler = MinMaxScaler()\n",
    "data_rescaled = scaler.fit_transform(tfidf_result)\n",
    "\n",
    "\n",
    "# ## perform pca to get the number of PCA components\n",
    "pca = PCA()\n",
    "pca.fit(data_rescaled)\n",
    "print(pca.explained_variance_ratio_.cumsum())\n",
    "plt.figure(figsize=(10,8))\n",
    "plt.plot(pca.explained_variance_ratio_.cumsum(),marker='o',linestyle='--')\n",
    "\n",
    "\n",
    "# pca = PCA(n_components = 0.90)\n",
    "# pca.fit(Scaled_data)\n",
    "# reduced = pca.transform(Scaled_data)\n",
    "\n",
    "principal=PCA(n_components=0.95)\n",
    "principal.fit(data_rescaled)\n",
    "pca_output =principal.transform(data_rescaled)"
   ]
  },
  {
   "cell_type": "code",
   "execution_count": 377,
   "metadata": {
    "colab": {
     "base_uri": "https://localhost:8080/"
    },
    "id": "w4XawWZhM8HJ",
    "outputId": "d4dba1e7-37df-4d67-d319-d9ed8782b12a"
   },
   "outputs": [
    {
     "data": {
      "text/plain": [
       "(896, 527)"
      ]
     },
     "execution_count": 377,
     "metadata": {},
     "output_type": "execute_result"
    }
   ],
   "source": [
    "pca_output.shape"
   ]
  },
  {
   "cell_type": "code",
   "execution_count": 378,
   "metadata": {},
   "outputs": [
    {
     "data": {
      "text/html": [
       "<div>\n",
       "<style scoped>\n",
       "    .dataframe tbody tr th:only-of-type {\n",
       "        vertical-align: middle;\n",
       "    }\n",
       "\n",
       "    .dataframe tbody tr th {\n",
       "        vertical-align: top;\n",
       "    }\n",
       "\n",
       "    .dataframe thead th {\n",
       "        text-align: right;\n",
       "    }\n",
       "</style>\n",
       "<table border=\"1\" class=\"dataframe\">\n",
       "  <thead>\n",
       "    <tr style=\"text-align: right;\">\n",
       "      <th></th>\n",
       "      <th>0</th>\n",
       "      <th>1</th>\n",
       "      <th>2</th>\n",
       "      <th>3</th>\n",
       "      <th>4</th>\n",
       "      <th>5</th>\n",
       "      <th>6</th>\n",
       "      <th>7</th>\n",
       "      <th>8</th>\n",
       "      <th>9</th>\n",
       "      <th>...</th>\n",
       "      <th>517</th>\n",
       "      <th>518</th>\n",
       "      <th>519</th>\n",
       "      <th>520</th>\n",
       "      <th>521</th>\n",
       "      <th>522</th>\n",
       "      <th>523</th>\n",
       "      <th>524</th>\n",
       "      <th>525</th>\n",
       "      <th>526</th>\n",
       "    </tr>\n",
       "  </thead>\n",
       "  <tbody>\n",
       "    <tr>\n",
       "      <th>0</th>\n",
       "      <td>-0.201026</td>\n",
       "      <td>0.459667</td>\n",
       "      <td>-0.069311</td>\n",
       "      <td>0.154639</td>\n",
       "      <td>0.005006</td>\n",
       "      <td>0.018579</td>\n",
       "      <td>0.089967</td>\n",
       "      <td>-0.038742</td>\n",
       "      <td>0.072257</td>\n",
       "      <td>-0.124218</td>\n",
       "      <td>...</td>\n",
       "      <td>-0.006624</td>\n",
       "      <td>0.013650</td>\n",
       "      <td>0.004409</td>\n",
       "      <td>-0.000686</td>\n",
       "      <td>-0.000371</td>\n",
       "      <td>-0.016209</td>\n",
       "      <td>-0.010374</td>\n",
       "      <td>-0.025544</td>\n",
       "      <td>-0.008070</td>\n",
       "      <td>-0.017935</td>\n",
       "    </tr>\n",
       "    <tr>\n",
       "      <th>1</th>\n",
       "      <td>0.090284</td>\n",
       "      <td>-0.043623</td>\n",
       "      <td>0.149859</td>\n",
       "      <td>-0.084850</td>\n",
       "      <td>-0.001573</td>\n",
       "      <td>0.120620</td>\n",
       "      <td>-0.056533</td>\n",
       "      <td>0.340258</td>\n",
       "      <td>-0.243099</td>\n",
       "      <td>-0.407801</td>\n",
       "      <td>...</td>\n",
       "      <td>0.003112</td>\n",
       "      <td>0.015973</td>\n",
       "      <td>-0.010839</td>\n",
       "      <td>-0.001178</td>\n",
       "      <td>0.003352</td>\n",
       "      <td>0.004796</td>\n",
       "      <td>-0.006778</td>\n",
       "      <td>0.004091</td>\n",
       "      <td>0.007545</td>\n",
       "      <td>-0.003242</td>\n",
       "    </tr>\n",
       "    <tr>\n",
       "      <th>2</th>\n",
       "      <td>0.067462</td>\n",
       "      <td>0.043770</td>\n",
       "      <td>-0.130837</td>\n",
       "      <td>-0.079971</td>\n",
       "      <td>-0.189422</td>\n",
       "      <td>0.199751</td>\n",
       "      <td>0.079727</td>\n",
       "      <td>0.070440</td>\n",
       "      <td>-0.001063</td>\n",
       "      <td>0.230854</td>\n",
       "      <td>...</td>\n",
       "      <td>-0.078297</td>\n",
       "      <td>0.098681</td>\n",
       "      <td>-0.033531</td>\n",
       "      <td>-0.092406</td>\n",
       "      <td>-0.020053</td>\n",
       "      <td>-0.011418</td>\n",
       "      <td>-0.064845</td>\n",
       "      <td>-0.047779</td>\n",
       "      <td>-0.033614</td>\n",
       "      <td>-0.053062</td>\n",
       "    </tr>\n",
       "    <tr>\n",
       "      <th>3</th>\n",
       "      <td>0.020453</td>\n",
       "      <td>-0.051261</td>\n",
       "      <td>0.039385</td>\n",
       "      <td>-0.061668</td>\n",
       "      <td>-0.064061</td>\n",
       "      <td>0.076123</td>\n",
       "      <td>-0.009146</td>\n",
       "      <td>0.120277</td>\n",
       "      <td>-0.099577</td>\n",
       "      <td>-0.059101</td>\n",
       "      <td>...</td>\n",
       "      <td>0.002540</td>\n",
       "      <td>0.006045</td>\n",
       "      <td>-0.006809</td>\n",
       "      <td>0.003584</td>\n",
       "      <td>-0.003942</td>\n",
       "      <td>0.010008</td>\n",
       "      <td>0.002987</td>\n",
       "      <td>-0.016870</td>\n",
       "      <td>0.006460</td>\n",
       "      <td>0.002439</td>\n",
       "    </tr>\n",
       "    <tr>\n",
       "      <th>4</th>\n",
       "      <td>-0.042761</td>\n",
       "      <td>-0.105942</td>\n",
       "      <td>0.014664</td>\n",
       "      <td>0.010768</td>\n",
       "      <td>-0.000051</td>\n",
       "      <td>-0.019718</td>\n",
       "      <td>-0.003930</td>\n",
       "      <td>0.108267</td>\n",
       "      <td>0.113609</td>\n",
       "      <td>0.154809</td>\n",
       "      <td>...</td>\n",
       "      <td>0.021542</td>\n",
       "      <td>-0.067069</td>\n",
       "      <td>0.041438</td>\n",
       "      <td>-0.184403</td>\n",
       "      <td>-0.106878</td>\n",
       "      <td>-0.117957</td>\n",
       "      <td>-0.056354</td>\n",
       "      <td>0.176433</td>\n",
       "      <td>-0.046319</td>\n",
       "      <td>0.065849</td>\n",
       "    </tr>\n",
       "    <tr>\n",
       "      <th>...</th>\n",
       "      <td>...</td>\n",
       "      <td>...</td>\n",
       "      <td>...</td>\n",
       "      <td>...</td>\n",
       "      <td>...</td>\n",
       "      <td>...</td>\n",
       "      <td>...</td>\n",
       "      <td>...</td>\n",
       "      <td>...</td>\n",
       "      <td>...</td>\n",
       "      <td>...</td>\n",
       "      <td>...</td>\n",
       "      <td>...</td>\n",
       "      <td>...</td>\n",
       "      <td>...</td>\n",
       "      <td>...</td>\n",
       "      <td>...</td>\n",
       "      <td>...</td>\n",
       "      <td>...</td>\n",
       "      <td>...</td>\n",
       "      <td>...</td>\n",
       "    </tr>\n",
       "    <tr>\n",
       "      <th>891</th>\n",
       "      <td>-0.027055</td>\n",
       "      <td>-0.017985</td>\n",
       "      <td>-0.008370</td>\n",
       "      <td>-0.047128</td>\n",
       "      <td>0.018603</td>\n",
       "      <td>-0.041656</td>\n",
       "      <td>-0.008804</td>\n",
       "      <td>0.058391</td>\n",
       "      <td>-0.039464</td>\n",
       "      <td>-0.045728</td>\n",
       "      <td>...</td>\n",
       "      <td>-0.125411</td>\n",
       "      <td>-0.041447</td>\n",
       "      <td>0.032802</td>\n",
       "      <td>0.001089</td>\n",
       "      <td>0.114465</td>\n",
       "      <td>0.052364</td>\n",
       "      <td>0.023956</td>\n",
       "      <td>0.096990</td>\n",
       "      <td>0.115609</td>\n",
       "      <td>0.065546</td>\n",
       "    </tr>\n",
       "    <tr>\n",
       "      <th>892</th>\n",
       "      <td>-0.135902</td>\n",
       "      <td>-0.279688</td>\n",
       "      <td>-0.001480</td>\n",
       "      <td>0.326709</td>\n",
       "      <td>-0.006003</td>\n",
       "      <td>0.036711</td>\n",
       "      <td>0.068384</td>\n",
       "      <td>0.043234</td>\n",
       "      <td>0.195834</td>\n",
       "      <td>0.185139</td>\n",
       "      <td>...</td>\n",
       "      <td>-0.007605</td>\n",
       "      <td>-0.015312</td>\n",
       "      <td>0.004046</td>\n",
       "      <td>0.012727</td>\n",
       "      <td>0.049464</td>\n",
       "      <td>0.037261</td>\n",
       "      <td>-0.015147</td>\n",
       "      <td>-0.034894</td>\n",
       "      <td>0.005652</td>\n",
       "      <td>-0.062164</td>\n",
       "    </tr>\n",
       "    <tr>\n",
       "      <th>893</th>\n",
       "      <td>0.109378</td>\n",
       "      <td>-0.007328</td>\n",
       "      <td>0.148158</td>\n",
       "      <td>-0.110890</td>\n",
       "      <td>0.001971</td>\n",
       "      <td>0.112068</td>\n",
       "      <td>-0.069025</td>\n",
       "      <td>0.315421</td>\n",
       "      <td>-0.237342</td>\n",
       "      <td>-0.503844</td>\n",
       "      <td>...</td>\n",
       "      <td>0.003462</td>\n",
       "      <td>0.007838</td>\n",
       "      <td>0.002030</td>\n",
       "      <td>-0.023196</td>\n",
       "      <td>0.014834</td>\n",
       "      <td>-0.042160</td>\n",
       "      <td>-0.029732</td>\n",
       "      <td>0.003153</td>\n",
       "      <td>-0.026371</td>\n",
       "      <td>-0.003586</td>\n",
       "    </tr>\n",
       "    <tr>\n",
       "      <th>894</th>\n",
       "      <td>0.021801</td>\n",
       "      <td>0.031121</td>\n",
       "      <td>0.292212</td>\n",
       "      <td>-0.142743</td>\n",
       "      <td>0.304478</td>\n",
       "      <td>0.242318</td>\n",
       "      <td>0.131709</td>\n",
       "      <td>-0.128895</td>\n",
       "      <td>0.092272</td>\n",
       "      <td>0.037862</td>\n",
       "      <td>...</td>\n",
       "      <td>-0.050916</td>\n",
       "      <td>0.018760</td>\n",
       "      <td>0.079337</td>\n",
       "      <td>-0.042667</td>\n",
       "      <td>0.044823</td>\n",
       "      <td>-0.077758</td>\n",
       "      <td>-0.069404</td>\n",
       "      <td>0.034159</td>\n",
       "      <td>-0.030565</td>\n",
       "      <td>0.042084</td>\n",
       "    </tr>\n",
       "    <tr>\n",
       "      <th>895</th>\n",
       "      <td>-0.002400</td>\n",
       "      <td>-0.072648</td>\n",
       "      <td>0.053178</td>\n",
       "      <td>0.022103</td>\n",
       "      <td>-0.046193</td>\n",
       "      <td>-0.048973</td>\n",
       "      <td>-0.104414</td>\n",
       "      <td>0.010523</td>\n",
       "      <td>0.264509</td>\n",
       "      <td>0.096859</td>\n",
       "      <td>...</td>\n",
       "      <td>0.006544</td>\n",
       "      <td>-0.007033</td>\n",
       "      <td>0.004929</td>\n",
       "      <td>0.006786</td>\n",
       "      <td>0.000751</td>\n",
       "      <td>0.009989</td>\n",
       "      <td>-0.002711</td>\n",
       "      <td>-0.011207</td>\n",
       "      <td>0.005820</td>\n",
       "      <td>0.012615</td>\n",
       "    </tr>\n",
       "  </tbody>\n",
       "</table>\n",
       "<p>896 rows × 527 columns</p>\n",
       "</div>"
      ],
      "text/plain": [
       "          0         1         2         3         4         5         6    \\\n",
       "0   -0.201026  0.459667 -0.069311  0.154639  0.005006  0.018579  0.089967   \n",
       "1    0.090284 -0.043623  0.149859 -0.084850 -0.001573  0.120620 -0.056533   \n",
       "2    0.067462  0.043770 -0.130837 -0.079971 -0.189422  0.199751  0.079727   \n",
       "3    0.020453 -0.051261  0.039385 -0.061668 -0.064061  0.076123 -0.009146   \n",
       "4   -0.042761 -0.105942  0.014664  0.010768 -0.000051 -0.019718 -0.003930   \n",
       "..        ...       ...       ...       ...       ...       ...       ...   \n",
       "891 -0.027055 -0.017985 -0.008370 -0.047128  0.018603 -0.041656 -0.008804   \n",
       "892 -0.135902 -0.279688 -0.001480  0.326709 -0.006003  0.036711  0.068384   \n",
       "893  0.109378 -0.007328  0.148158 -0.110890  0.001971  0.112068 -0.069025   \n",
       "894  0.021801  0.031121  0.292212 -0.142743  0.304478  0.242318  0.131709   \n",
       "895 -0.002400 -0.072648  0.053178  0.022103 -0.046193 -0.048973 -0.104414   \n",
       "\n",
       "          7         8         9    ...       517       518       519  \\\n",
       "0   -0.038742  0.072257 -0.124218  ... -0.006624  0.013650  0.004409   \n",
       "1    0.340258 -0.243099 -0.407801  ...  0.003112  0.015973 -0.010839   \n",
       "2    0.070440 -0.001063  0.230854  ... -0.078297  0.098681 -0.033531   \n",
       "3    0.120277 -0.099577 -0.059101  ...  0.002540  0.006045 -0.006809   \n",
       "4    0.108267  0.113609  0.154809  ...  0.021542 -0.067069  0.041438   \n",
       "..        ...       ...       ...  ...       ...       ...       ...   \n",
       "891  0.058391 -0.039464 -0.045728  ... -0.125411 -0.041447  0.032802   \n",
       "892  0.043234  0.195834  0.185139  ... -0.007605 -0.015312  0.004046   \n",
       "893  0.315421 -0.237342 -0.503844  ...  0.003462  0.007838  0.002030   \n",
       "894 -0.128895  0.092272  0.037862  ... -0.050916  0.018760  0.079337   \n",
       "895  0.010523  0.264509  0.096859  ...  0.006544 -0.007033  0.004929   \n",
       "\n",
       "          520       521       522       523       524       525       526  \n",
       "0   -0.000686 -0.000371 -0.016209 -0.010374 -0.025544 -0.008070 -0.017935  \n",
       "1   -0.001178  0.003352  0.004796 -0.006778  0.004091  0.007545 -0.003242  \n",
       "2   -0.092406 -0.020053 -0.011418 -0.064845 -0.047779 -0.033614 -0.053062  \n",
       "3    0.003584 -0.003942  0.010008  0.002987 -0.016870  0.006460  0.002439  \n",
       "4   -0.184403 -0.106878 -0.117957 -0.056354  0.176433 -0.046319  0.065849  \n",
       "..        ...       ...       ...       ...       ...       ...       ...  \n",
       "891  0.001089  0.114465  0.052364  0.023956  0.096990  0.115609  0.065546  \n",
       "892  0.012727  0.049464  0.037261 -0.015147 -0.034894  0.005652 -0.062164  \n",
       "893 -0.023196  0.014834 -0.042160 -0.029732  0.003153 -0.026371 -0.003586  \n",
       "894 -0.042667  0.044823 -0.077758 -0.069404  0.034159 -0.030565  0.042084  \n",
       "895  0.006786  0.000751  0.009989 -0.002711 -0.011207  0.005820  0.012615  \n",
       "\n",
       "[896 rows x 527 columns]"
      ]
     },
     "execution_count": 378,
     "metadata": {},
     "output_type": "execute_result"
    }
   ],
   "source": [
    "pd.DataFrame(pca_output)"
   ]
  },
  {
   "cell_type": "code",
   "execution_count": 94,
   "metadata": {
    "colab": {
     "base_uri": "https://localhost:8080/"
    },
    "id": "6evjkvaqG6Y5",
    "outputId": "55e52343-b181-44ae-ccaa-5dc9971e6df3"
   },
   "outputs": [],
   "source": [
    "# principal.components_"
   ]
  },
  {
   "cell_type": "code",
   "execution_count": 142,
   "metadata": {},
   "outputs": [],
   "source": [
    "pickle.dump(scaler, open(\"min_max_scaler.pkl\", \"wb\"))"
   ]
  },
  {
   "cell_type": "code",
   "execution_count": 143,
   "metadata": {},
   "outputs": [],
   "source": [
    "pickle.dump(principal, open(\"pca_loading.pkl\", \"wb\"))"
   ]
  },
  {
   "cell_type": "code",
   "execution_count": null,
   "metadata": {},
   "outputs": [],
   "source": [
    "### Kmeans"
   ]
  },
  {
   "cell_type": "code",
   "execution_count": 159,
   "metadata": {},
   "outputs": [
    {
     "data": {
      "text/plain": [
       "(896, 4)"
      ]
     },
     "execution_count": 159,
     "metadata": {},
     "output_type": "execute_result"
    }
   ],
   "source": [
    "new_train_samples.shape"
   ]
  },
  {
   "cell_type": "code",
   "execution_count": 276,
   "metadata": {},
   "outputs": [],
   "source": [
    "## Import libraries\n",
    "from nltk.cluster import KMeansClusterer\n",
    "import nltk\n",
    "import random\n",
    "rng = random.Random()\n",
    "rng.seed(123)\n",
    "\n",
    "def clustering_creation(data,pca_output,NUM_CLUSTERS = 10):\n",
    "    X = pca_output\n",
    "    kclusterer = KMeansClusterer(\n",
    "        NUM_CLUSTERS, distance=nltk.cluster.util.cosine_distance,avoid_empty_clusters=True,rng=rng)\n",
    "    assigned_clusters = kclusterer.cluster(X, assign_clusters=True)\n",
    "    data['cluster'] = assigned_clusters\n",
    "    data['centroid'] = data['cluster'].apply(lambda x: kclusterer.means()[x])\n",
    "    return data,kclusterer"
   ]
  },
  {
   "cell_type": "code",
   "execution_count": 147,
   "metadata": {
    "id": "6c1f8agcXgLJ"
   },
   "outputs": [],
   "source": [
    "from wordcloud import WordCloud, STOPWORDS\n",
    "import matplotlib.pyplot as plt\n",
    "import pandas as pd"
   ]
  },
  {
   "cell_type": "code",
   "execution_count": 288,
   "metadata": {
    "id": "aF7Pl0-IPT_U"
   },
   "outputs": [],
   "source": [
    "def get_word_cloud(data,cluster_number,exp_clusters):\n",
    "    sub_set = data[data['cluster'] == cluster_number]\n",
    "    comment_words = ''\n",
    "    stopwords = set(STOPWORDS)\n",
    "    # iterate through the csv file\n",
    "\n",
    "    for val in sub_set['Dashboard Name']:\n",
    "        val = str(val)\n",
    "        tokens = val.split()\n",
    "        for i in range(len(tokens)):\n",
    "            tokens[i] = tokens[i].lower()\n",
    "            tokens[i] = tokens[i].strip()\n",
    "        comment_words += \" \".join(tokens)+\" \"\n",
    "    wordcloud = WordCloud(width = 800, height = 800, background_color ='white',stopwords = stopwords,min_font_size = 10).generate(comment_words)\n",
    "    # plot the WordCloud image      \n",
    "    print(f\" wordcloud for cluster {cluster_number}\")\n",
    "    plt.figure(figsize = (8, 8), facecolor = None)\n",
    "    cluster_distribution = data['cluster'].value_counts().rename_axis('cluster_number').reset_index(name='counts')\n",
    "    folder = 'experiment/wordcloud_with_totalcluster_%s' % exp_clusters\n",
    "    if not os.path.exists(folder):\n",
    "        os.makedirs(folder)\n",
    "    file_path = os.path.join(folder, 'wordcloud_cluster_'+str(cluster_number)+'.png')   \n",
    "    wordcloud.to_file(file_path)\n",
    "    file_path = os.path.join(folder,'cluster_distribution.csv')\n",
    "    cluster_distribution.to_csv(file_path, index=False)\n",
    "    file_path = os.path.join(folder,'new_train_samples_total_cluster_'+str(exp_clusters)+'.csv')\n",
    "    data.to_csv(file_path, index=False)\n",
    "    Pkl_Filename = \"kmeans_\"+str(exp_clusters)+\".pkl\"\n",
    "    model_pkl = os.path.join(folder, Pkl_Filename)\n",
    "    with open(model_pkl, 'wb') as file:\n",
    "        pickle.dump(kclusterer, file)\n",
    "    "
   ]
  },
  {
   "cell_type": "code",
   "execution_count": 296,
   "metadata": {},
   "outputs": [],
   "source": [
    "new_train_samples_update,kclusterer = clustering_creation(new_train_samples,pca_output,20)"
   ]
  },
  {
   "cell_type": "code",
   "execution_count": 297,
   "metadata": {
    "id": "f2NBvD48PT_V"
   },
   "outputs": [],
   "source": [
    "clusters = np.sort(new_train_samples_update[\"cluster\"].unique().tolist())"
   ]
  },
  {
   "cell_type": "code",
   "execution_count": 300,
   "metadata": {},
   "outputs": [
    {
     "name": "stdout",
     "output_type": "stream",
     "text": [
      " wordcloud for cluster 0\n",
      " wordcloud for cluster 1\n",
      " wordcloud for cluster 2\n",
      " wordcloud for cluster 3\n",
      " wordcloud for cluster 4\n",
      " wordcloud for cluster 5\n",
      " wordcloud for cluster 6\n",
      " wordcloud for cluster 7\n",
      " wordcloud for cluster 8\n",
      " wordcloud for cluster 9\n",
      " wordcloud for cluster 10\n",
      " wordcloud for cluster 11\n",
      " wordcloud for cluster 12\n",
      " wordcloud for cluster 13\n",
      " wordcloud for cluster 14\n",
      " wordcloud for cluster 15\n",
      " wordcloud for cluster 16\n",
      " wordcloud for cluster 17\n",
      " wordcloud for cluster 18\n",
      " wordcloud for cluster 19\n"
     ]
    },
    {
     "data": {
      "image/png": "[encoded data removed]",
      "text/plain": [
       "<Figure size 576x576 with 1 Axes>"
      ]
     },
     "metadata": {
      "needs_background": "light"
     },
     "output_type": "display_data"
    },
    {
     "data": {
      "image/png": "[encoded data removed]",
      "text/plain": [
       "<Figure size 576x576 with 1 Axes>"
      ]
     },
     "metadata": {
      "needs_background": "light"
     },
     "output_type": "display_data"
    },
    {
     "data": {
      "image/png": "[encoded data removed]",
      "text/plain": [
       "<Figure size 576x576 with 1 Axes>"
      ]
     },
     "metadata": {
      "needs_background": "light"
     },
     "output_type": "display_data"
    },
    {
     "data": {
      "image/png": "[encoded data removed]",
      "text/plain": [
       "<Figure size 576x576 with 1 Axes>"
      ]
     },
     "metadata": {
      "needs_background": "light"
     },
     "output_type": "display_data"
    },
    {
     "data": {
      "image/png": "[encoded data removed]",
      "text/plain": [
       "<Figure size 576x576 with 1 Axes>"
      ]
     },
     "metadata": {
      "needs_background": "light"
     },
     "output_type": "display_data"
    },
    {
     "data": {
      "image/png": "[encoded data removed]",
      "text/plain": [
       "<Figure size 576x576 with 1 Axes>"
      ]
     },
     "metadata": {
      "needs_background": "light"
     },
     "output_type": "display_data"
    },
    {
     "data": {
      "image/png": "[encoded data removed]",
      "text/plain": [
       "<Figure size 576x576 with 1 Axes>"
      ]
     },
     "metadata": {
      "needs_background": "light"
     },
     "output_type": "display_data"
    },
    {
     "data": {
      "image/png": "[encoded data removed]",
      "text/plain": [
       "<Figure size 576x576 with 1 Axes>"
      ]
     },
     "metadata": {
      "needs_background": "light"
     },
     "output_type": "display_data"
    },
    {
     "data": {
      "image/png": "[encoded data removed]",
      "text/plain": [
       "<Figure size 576x576 with 1 Axes>"
      ]
     },
     "metadata": {
      "needs_background": "light"
     },
     "output_type": "display_data"
    },
    {
     "data": {
      "image/png": "[encoded data removed]",
      "text/plain": [
       "<Figure size 576x576 with 1 Axes>"
      ]
     },
     "metadata": {
      "needs_background": "light"
     },
     "output_type": "display_data"
    },
    {
     "data": {
      "image/png": "[encoded data removed]",
      "text/plain": [
       "<Figure size 576x576 with 1 Axes>"
      ]
     },
     "metadata": {
      "needs_background": "light"
     },
     "output_type": "display_data"
    },
    {
     "data": {
      "image/png": "[encoded data removed]",
      "text/plain": [
       "<Figure size 576x576 with 1 Axes>"
      ]
     },
     "metadata": {
      "needs_background": "light"
     },
     "output_type": "display_data"
    },
    {
     "data": {
      "image/png": "[encoded data removed]",
      "text/plain": [
       "<Figure size 576x576 with 1 Axes>"
      ]
     },
     "metadata": {
      "needs_background": "light"
     },
     "output_type": "display_data"
    },
    {
     "data": {
      "image/png": "[encoded data removed]",
      "text/plain": [
       "<Figure size 576x576 with 1 Axes>"
      ]
     },
     "metadata": {
      "needs_background": "light"
     },
     "output_type": "display_data"
    },
    {
     "data": {
      "image/png": "[encoded data removed]",
      "text/plain": [
       "<Figure size 576x576 with 1 Axes>"
      ]
     },
     "metadata": {
      "needs_background": "light"
     },
     "output_type": "display_data"
    },
    {
     "data": {
      "image/png": "[encoded data removed]",
      "text/plain": [
       "<Figure size 576x576 with 1 Axes>"
      ]
     },
     "metadata": {
      "needs_background": "light"
     },
     "output_type": "display_data"
    },
    {
     "data": {
      "image/png": "[encoded data removed]",
      "text/plain": [
       "<Figure size 576x576 with 1 Axes>"
      ]
     },
     "metadata": {
      "needs_background": "light"
     },
     "output_type": "display_data"
    },
    {
     "data": {
      "image/png": "[encoded data removed]",
      "text/plain": [
       "<Figure size 576x576 with 1 Axes>"
      ]
     },
     "metadata": {
      "needs_background": "light"
     },
     "output_type": "display_data"
    },
    {
     "data": {
      "image/png": "[encoded data removed]",
      "text/plain": [
       "<Figure size 576x576 with 1 Axes>"
      ]
     },
     "metadata": {
      "needs_background": "light"
     },
     "output_type": "display_data"
    },
    {
     "data": {
      "image/png": "[encoded data removed]",
      "text/plain": [
       "<Figure size 576x576 with 1 Axes>"
      ]
     },
     "metadata": {
      "needs_background": "light"
     },
     "output_type": "display_data"
    }
   ],
   "source": [
    "for i in clusters:\n",
    "    get_word_cloud(new_train_samples_update,i,20)"
   ]
  },
  {
   "cell_type": "markdown",
   "metadata": {},
   "source": [
    "#### clasify test data  for 20 clusters"
   ]
  },
  {
   "cell_type": "code",
   "execution_count": 301,
   "metadata": {},
   "outputs": [
    {
     "data": {
      "text/html": [
       "<div>\n",
       "<style scoped>\n",
       "    .dataframe tbody tr th:only-of-type {\n",
       "        vertical-align: middle;\n",
       "    }\n",
       "\n",
       "    .dataframe tbody tr th {\n",
       "        vertical-align: top;\n",
       "    }\n",
       "\n",
       "    .dataframe thead th {\n",
       "        text-align: right;\n",
       "    }\n",
       "</style>\n",
       "<table border=\"1\" class=\"dataframe\">\n",
       "  <thead>\n",
       "    <tr style=\"text-align: right;\">\n",
       "      <th></th>\n",
       "      <th>Original Name</th>\n",
       "      <th>Dashboard Name</th>\n",
       "      <th>Masked Name</th>\n",
       "      <th>tf-idf</th>\n",
       "    </tr>\n",
       "  </thead>\n",
       "  <tbody>\n",
       "    <tr>\n",
       "      <th>0</th>\n",
       "      <td>Degradings Detailed View</td>\n",
       "      <td>degradings detailed view</td>\n",
       "      <td>Dash1</td>\n",
       "      <td>[0.0, 0.0, 0.0, 0.0, 0.0, 0.0, 0.0, 0.0, 0.0, ...</td>\n",
       "    </tr>\n",
       "    <tr>\n",
       "      <th>1</th>\n",
       "      <td>Grower Economics - weekly supply</td>\n",
       "      <td>grower economics weekly supply</td>\n",
       "      <td>Dash14</td>\n",
       "      <td>[0.0, 0.0, 0.0, 0.0, 0.0, 0.0, 0.0, 0.0, 0.0, ...</td>\n",
       "    </tr>\n",
       "    <tr>\n",
       "      <th>2</th>\n",
       "      <td>Nursery Order Status Report</td>\n",
       "      <td>nursery order status</td>\n",
       "      <td>Dash27</td>\n",
       "      <td>[0.0, 0.0, 0.0, 0.0, 0.0, 0.0, 0.0, 0.0, 0.0, ...</td>\n",
       "    </tr>\n",
       "    <tr>\n",
       "      <th>3</th>\n",
       "      <td>Pricing - PPV</td>\n",
       "      <td>pricing ppv</td>\n",
       "      <td>Dash31</td>\n",
       "      <td>[0.0, 0.0, 0.0, 0.0, 0.0, 0.0, 0.0, 0.0, 0.0, ...</td>\n",
       "    </tr>\n",
       "    <tr>\n",
       "      <th>4</th>\n",
       "      <td>Casey Report</td>\n",
       "      <td>casey</td>\n",
       "      <td>Dash45</td>\n",
       "      <td>[0.0, 0.0, 0.0, 0.0, 0.0, 0.0, 0.0, 0.0, 0.0, ...</td>\n",
       "    </tr>\n",
       "    <tr>\n",
       "      <th>...</th>\n",
       "      <td>...</td>\n",
       "      <td>...</td>\n",
       "      <td>...</td>\n",
       "      <td>...</td>\n",
       "    </tr>\n",
       "    <tr>\n",
       "      <th>96</th>\n",
       "      <td>Report carrier volume  PRT-ESP-MOR</td>\n",
       "      <td>carrier volume prt esp mor</td>\n",
       "      <td>Dash981</td>\n",
       "      <td>[0.0, 0.0, 0.0, 0.0, 0.0, 0.0, 0.0, 0.0, 0.0, ...</td>\n",
       "    </tr>\n",
       "    <tr>\n",
       "      <th>97</th>\n",
       "      <td>KGs Diarios por armazém</td>\n",
       "      <td>kg diarios por armazém</td>\n",
       "      <td>Dash985</td>\n",
       "      <td>[0.0, 0.0, 0.0, 0.0, 0.0, 0.0, 0.0, 0.0, 0.0, ...</td>\n",
       "    </tr>\n",
       "    <tr>\n",
       "      <th>98</th>\n",
       "      <td>OV - Sample Weights</td>\n",
       "      <td>ov sample weight</td>\n",
       "      <td>Dash990</td>\n",
       "      <td>[0.0, 0.0, 0.0, 0.0, 0.0, 0.0, 0.0, 0.0, 0.0, ...</td>\n",
       "    </tr>\n",
       "    <tr>\n",
       "      <th>99</th>\n",
       "      <td>Blackberry Daily Harvest Order Action Strategy</td>\n",
       "      <td>blackberry daily harvest order action strategy</td>\n",
       "      <td>Dash993</td>\n",
       "      <td>[0.0, 0.0, 0.0, 0.0, 0.0, 0.0, 0.0, 0.47246535...</td>\n",
       "    </tr>\n",
       "    <tr>\n",
       "      <th>100</th>\n",
       "      <td>Dax Certified Receipts for Month End Accrual G...</td>\n",
       "      <td>dax certified receipt month end accrual gf</td>\n",
       "      <td>Dash995</td>\n",
       "      <td>[0.0, 0.0, 0.42343946583789743, 0.0, 0.0, 0.0,...</td>\n",
       "    </tr>\n",
       "  </tbody>\n",
       "</table>\n",
       "<p>101 rows × 4 columns</p>\n",
       "</div>"
      ],
      "text/plain": [
       "                                         Original Name  \\\n",
       "0                             Degradings Detailed View   \n",
       "1                     Grower Economics - weekly supply   \n",
       "2                          Nursery Order Status Report   \n",
       "3                                        Pricing - PPV   \n",
       "4                                         Casey Report   \n",
       "..                                                 ...   \n",
       "96                  Report carrier volume  PRT-ESP-MOR   \n",
       "97                             KGs Diarios por armazém   \n",
       "98                                 OV - Sample Weights   \n",
       "99      Blackberry Daily Harvest Order Action Strategy   \n",
       "100  Dax Certified Receipts for Month End Accrual G...   \n",
       "\n",
       "                                     Dashboard Name Masked Name  \\\n",
       "0                          degradings detailed view       Dash1   \n",
       "1                    grower economics weekly supply      Dash14   \n",
       "2                              nursery order status      Dash27   \n",
       "3                                       pricing ppv      Dash31   \n",
       "4                                             casey      Dash45   \n",
       "..                                              ...         ...   \n",
       "96                       carrier volume prt esp mor     Dash981   \n",
       "97                           kg diarios por armazém     Dash985   \n",
       "98                                 ov sample weight     Dash990   \n",
       "99   blackberry daily harvest order action strategy     Dash993   \n",
       "100      dax certified receipt month end accrual gf     Dash995   \n",
       "\n",
       "                                                tf-idf  \n",
       "0    [0.0, 0.0, 0.0, 0.0, 0.0, 0.0, 0.0, 0.0, 0.0, ...  \n",
       "1    [0.0, 0.0, 0.0, 0.0, 0.0, 0.0, 0.0, 0.0, 0.0, ...  \n",
       "2    [0.0, 0.0, 0.0, 0.0, 0.0, 0.0, 0.0, 0.0, 0.0, ...  \n",
       "3    [0.0, 0.0, 0.0, 0.0, 0.0, 0.0, 0.0, 0.0, 0.0, ...  \n",
       "4    [0.0, 0.0, 0.0, 0.0, 0.0, 0.0, 0.0, 0.0, 0.0, ...  \n",
       "..                                                 ...  \n",
       "96   [0.0, 0.0, 0.0, 0.0, 0.0, 0.0, 0.0, 0.0, 0.0, ...  \n",
       "97   [0.0, 0.0, 0.0, 0.0, 0.0, 0.0, 0.0, 0.0, 0.0, ...  \n",
       "98   [0.0, 0.0, 0.0, 0.0, 0.0, 0.0, 0.0, 0.0, 0.0, ...  \n",
       "99   [0.0, 0.0, 0.0, 0.0, 0.0, 0.0, 0.0, 0.47246535...  \n",
       "100  [0.0, 0.0, 0.42343946583789743, 0.0, 0.0, 0.0,...  \n",
       "\n",
       "[101 rows x 4 columns]"
      ]
     },
     "execution_count": 301,
     "metadata": {},
     "output_type": "execute_result"
    }
   ],
   "source": [
    "new_test_samples"
   ]
  },
  {
   "cell_type": "code",
   "execution_count": 302,
   "metadata": {},
   "outputs": [],
   "source": [
    "tfidf_result_test=[]\n",
    "for i in new_test_samples['tf-idf']:\n",
    "    tfidf_result_test.append(i)\n",
    "    \n",
    "data_rescaled_test = scaler.fit_transform(tfidf_result_test)\n",
    "pca_output_test =principal.transform(data_rescaled_test)"
   ]
  },
  {
   "cell_type": "code",
   "execution_count": 305,
   "metadata": {},
   "outputs": [
    {
     "data": {
      "text/plain": [
       "(101, 527)"
      ]
     },
     "execution_count": 305,
     "metadata": {},
     "output_type": "execute_result"
    }
   ],
   "source": [
    "pca_output_test.shape"
   ]
  },
  {
   "cell_type": "code",
   "execution_count": 312,
   "metadata": {},
   "outputs": [
    {
     "data": {
      "text/plain": [
       "numpy.ndarray"
      ]
     },
     "execution_count": 312,
     "metadata": {},
     "output_type": "execute_result"
    }
   ],
   "source": [
    "type(pca_output_test[0])"
   ]
  },
  {
   "cell_type": "code",
   "execution_count": 325,
   "metadata": {},
   "outputs": [],
   "source": [
    "test_cluster_number = [kclusterer.classify(pca_output_test[i]) for i in range(pca_output_test.shape[0])]"
   ]
  },
  {
   "cell_type": "code",
   "execution_count": 328,
   "metadata": {},
   "outputs": [],
   "source": [
    "new_test_samples['assigned_cluster'] = test_cluster_number"
   ]
  },
  {
   "cell_type": "code",
   "execution_count": 331,
   "metadata": {},
   "outputs": [
    {
     "data": {
      "text/plain": [
       "5     18\n",
       "19    10\n",
       "13     8\n",
       "6      7\n",
       "14     7\n",
       "10     7\n",
       "4      7\n",
       "7      6\n",
       "12     6\n",
       "17     5\n",
       "3      4\n",
       "2      3\n",
       "11     3\n",
       "9      2\n",
       "15     2\n",
       "16     2\n",
       "0      2\n",
       "8      1\n",
       "18     1\n",
       "Name: assigned_cluster, dtype: int64"
      ]
     },
     "execution_count": 331,
     "metadata": {},
     "output_type": "execute_result"
    }
   ],
   "source": [
    "new_test_samples['assigned_cluster'].value_counts()"
   ]
  },
  {
   "cell_type": "code",
   "execution_count": 334,
   "metadata": {},
   "outputs": [],
   "source": [
    "new_test_samples.to_csv(\"new_test_samples.csv\",index=False)"
   ]
  },
  {
   "cell_type": "markdown",
   "metadata": {},
   "source": [
    "#### clasify test data  for 10 clusters"
   ]
  },
  {
   "cell_type": "code",
   "execution_count": null,
   "metadata": {},
   "outputs": [],
   "source": [
    "new_test_samples"
   ]
  },
  {
   "cell_type": "code",
   "execution_count": 338,
   "metadata": {},
   "outputs": [],
   "source": [
    "tfidf_result_test=[]\n",
    "for i in new_test_samples['tf-idf']:\n",
    "    tfidf_result_test.append(i)\n",
    "    \n",
    "data_rescaled_test = scaler.fit_transform(tfidf_result_test)\n",
    "pca_output_test = principal.transform(data_rescaled_test)"
   ]
  },
  {
   "cell_type": "code",
   "execution_count": 345,
   "metadata": {},
   "outputs": [],
   "source": [
    "with open(\"C:/Users/ShruthiShanbogRamamu/OneDrive - Enquero/Powerme_project/Kmeans-cosine/experiment/wordcloud_with_totalcluster_10/kmeans_10.pkl\", 'rb') as handle:\n",
    "    kmeans_10 = pickle.load(handle)"
   ]
  },
  {
   "cell_type": "code",
   "execution_count": 346,
   "metadata": {},
   "outputs": [],
   "source": [
    "test_cluster_number = [kmeans_10.classify(pca_output_test[i]) for i in range(pca_output_test.shape[0])]"
   ]
  },
  {
   "cell_type": "code",
   "execution_count": 348,
   "metadata": {},
   "outputs": [],
   "source": [
    "new_test_samples_cluster10 = new_test_samples"
   ]
  },
  {
   "cell_type": "code",
   "execution_count": 349,
   "metadata": {},
   "outputs": [],
   "source": [
    "new_test_samples_cluster10['assigned_cluster'] = test_cluster_number"
   ]
  },
  {
   "cell_type": "code",
   "execution_count": 352,
   "metadata": {},
   "outputs": [
    {
     "data": {
      "text/plain": [
       "7    23\n",
       "9    13\n",
       "1    12\n",
       "4    10\n",
       "0     9\n",
       "2     8\n",
       "3     7\n",
       "5     7\n",
       "8     7\n",
       "6     5\n",
       "Name: assigned_cluster, dtype: int64"
      ]
     },
     "execution_count": 352,
     "metadata": {},
     "output_type": "execute_result"
    }
   ],
   "source": [
    "new_test_samples_cluster10['assigned_cluster'].value_counts()"
   ]
  },
  {
   "cell_type": "code",
   "execution_count": 353,
   "metadata": {},
   "outputs": [],
   "source": [
    "new_test_samples_cluster10.to_csv('new_test_samples_cluster10.csv',index=False)"
   ]
  },
  {
   "cell_type": "markdown",
   "metadata": {},
   "source": [
    "#### KNN Recommendations"
   ]
  },
  {
   "cell_type": "code",
   "execution_count": 401,
   "metadata": {},
   "outputs": [],
   "source": [
    "vectorizer = pickle.load(open(\"tfidf_entiredata_New.pkl\", \"rb\"))\n",
    "min_max_loader = pickle.load(open(\"min_max_scaler.pkl\", \"rb\"))\n",
    "pca = pickle.load(open(\"pca_loading.pkl\", \"rb\"))\n",
    "kmeans = pickle.load(open(\"C:/Users/ShruthiShanbogRamamu/OneDrive - Enquero/Powerme_project/Kmeans-cosine/experiment/wordcloud_with_totalcluster_20/kmeans_20.pkl\", \"rb\"))"
   ]
  },
  {
   "cell_type": "code",
   "execution_count": 396,
   "metadata": {},
   "outputs": [],
   "source": [
    "col_names = [\"feture_\"+str(i) for i in range(0,pca_output.shape[1])]\n",
    "tarin_df = pd.DataFrame(pca_output,columns=col_names)\n",
    "new_train_samples_ = pd.concat([new_train_samples,tarin_df],axis=1)\n",
    "new_train_samples_.drop(['tf-idf','centroid'],axis=1,inplace=True) "
   ]
  },
  {
   "cell_type": "code",
   "execution_count": 398,
   "metadata": {},
   "outputs": [
    {
     "data": {
      "text/html": [
       "<div>\n",
       "<style scoped>\n",
       "    .dataframe tbody tr th:only-of-type {\n",
       "        vertical-align: middle;\n",
       "    }\n",
       "\n",
       "    .dataframe tbody tr th {\n",
       "        vertical-align: top;\n",
       "    }\n",
       "\n",
       "    .dataframe thead th {\n",
       "        text-align: right;\n",
       "    }\n",
       "</style>\n",
       "<table border=\"1\" class=\"dataframe\">\n",
       "  <thead>\n",
       "    <tr style=\"text-align: right;\">\n",
       "      <th></th>\n",
       "      <th>Original Name</th>\n",
       "      <th>Dashboard Name</th>\n",
       "      <th>Masked Name</th>\n",
       "      <th>cluster</th>\n",
       "      <th>feture_0</th>\n",
       "      <th>feture_1</th>\n",
       "      <th>feture_2</th>\n",
       "      <th>feture_3</th>\n",
       "      <th>feture_4</th>\n",
       "      <th>feture_5</th>\n",
       "      <th>...</th>\n",
       "      <th>feture_517</th>\n",
       "      <th>feture_518</th>\n",
       "      <th>feture_519</th>\n",
       "      <th>feture_520</th>\n",
       "      <th>feture_521</th>\n",
       "      <th>feture_522</th>\n",
       "      <th>feture_523</th>\n",
       "      <th>feture_524</th>\n",
       "      <th>feture_525</th>\n",
       "      <th>feture_526</th>\n",
       "    </tr>\n",
       "  </thead>\n",
       "  <tbody>\n",
       "    <tr>\n",
       "      <th>0</th>\n",
       "      <td>Pallet Summary by Order by Day</td>\n",
       "      <td>pallet summary order day</td>\n",
       "      <td>Dash0</td>\n",
       "      <td>8</td>\n",
       "      <td>-0.201026</td>\n",
       "      <td>0.459667</td>\n",
       "      <td>-0.069311</td>\n",
       "      <td>0.154639</td>\n",
       "      <td>0.005006</td>\n",
       "      <td>0.018579</td>\n",
       "      <td>...</td>\n",
       "      <td>-0.006624</td>\n",
       "      <td>0.013650</td>\n",
       "      <td>0.004409</td>\n",
       "      <td>-0.000686</td>\n",
       "      <td>-0.000371</td>\n",
       "      <td>-0.016209</td>\n",
       "      <td>-0.010374</td>\n",
       "      <td>-0.025544</td>\n",
       "      <td>-0.008070</td>\n",
       "      <td>-0.017935</td>\n",
       "    </tr>\n",
       "    <tr>\n",
       "      <th>1</th>\n",
       "      <td>Product Leader - Blueberries</td>\n",
       "      <td>product leader blueberry</td>\n",
       "      <td>Dash2</td>\n",
       "      <td>0</td>\n",
       "      <td>0.090284</td>\n",
       "      <td>-0.043623</td>\n",
       "      <td>0.149859</td>\n",
       "      <td>-0.084850</td>\n",
       "      <td>-0.001573</td>\n",
       "      <td>0.120620</td>\n",
       "      <td>...</td>\n",
       "      <td>0.003112</td>\n",
       "      <td>0.015973</td>\n",
       "      <td>-0.010839</td>\n",
       "      <td>-0.001178</td>\n",
       "      <td>0.003352</td>\n",
       "      <td>0.004796</td>\n",
       "      <td>-0.006778</td>\n",
       "      <td>0.004091</td>\n",
       "      <td>0.007545</td>\n",
       "      <td>-0.003242</td>\n",
       "    </tr>\n",
       "    <tr>\n",
       "      <th>2</th>\n",
       "      <td>CHL Fruit Details</td>\n",
       "      <td>chl fruit detail</td>\n",
       "      <td>Dash3</td>\n",
       "      <td>6</td>\n",
       "      <td>0.067462</td>\n",
       "      <td>0.043770</td>\n",
       "      <td>-0.130837</td>\n",
       "      <td>-0.079971</td>\n",
       "      <td>-0.189422</td>\n",
       "      <td>0.199751</td>\n",
       "      <td>...</td>\n",
       "      <td>-0.078297</td>\n",
       "      <td>0.098681</td>\n",
       "      <td>-0.033531</td>\n",
       "      <td>-0.092406</td>\n",
       "      <td>-0.020053</td>\n",
       "      <td>-0.011418</td>\n",
       "      <td>-0.064845</td>\n",
       "      <td>-0.047779</td>\n",
       "      <td>-0.033614</td>\n",
       "      <td>-0.053062</td>\n",
       "    </tr>\n",
       "    <tr>\n",
       "      <th>3</th>\n",
       "      <td>Product Leader - Raspberries</td>\n",
       "      <td>product leader raspberry</td>\n",
       "      <td>Dash4</td>\n",
       "      <td>0</td>\n",
       "      <td>0.020453</td>\n",
       "      <td>-0.051261</td>\n",
       "      <td>0.039385</td>\n",
       "      <td>-0.061668</td>\n",
       "      <td>-0.064061</td>\n",
       "      <td>0.076123</td>\n",
       "      <td>...</td>\n",
       "      <td>0.002540</td>\n",
       "      <td>0.006045</td>\n",
       "      <td>-0.006809</td>\n",
       "      <td>0.003584</td>\n",
       "      <td>-0.003942</td>\n",
       "      <td>0.010008</td>\n",
       "      <td>0.002987</td>\n",
       "      <td>-0.016870</td>\n",
       "      <td>0.006460</td>\n",
       "      <td>0.002439</td>\n",
       "    </tr>\n",
       "    <tr>\n",
       "      <th>4</th>\n",
       "      <td>OV - CMP Dashboard</td>\n",
       "      <td>ov cmp</td>\n",
       "      <td>Dash5</td>\n",
       "      <td>13</td>\n",
       "      <td>-0.042761</td>\n",
       "      <td>-0.105942</td>\n",
       "      <td>0.014664</td>\n",
       "      <td>0.010768</td>\n",
       "      <td>-0.000051</td>\n",
       "      <td>-0.019718</td>\n",
       "      <td>...</td>\n",
       "      <td>0.021542</td>\n",
       "      <td>-0.067069</td>\n",
       "      <td>0.041438</td>\n",
       "      <td>-0.184403</td>\n",
       "      <td>-0.106878</td>\n",
       "      <td>-0.117957</td>\n",
       "      <td>-0.056354</td>\n",
       "      <td>0.176433</td>\n",
       "      <td>-0.046319</td>\n",
       "      <td>0.065849</td>\n",
       "    </tr>\n",
       "    <tr>\n",
       "      <th>...</th>\n",
       "      <td>...</td>\n",
       "      <td>...</td>\n",
       "      <td>...</td>\n",
       "      <td>...</td>\n",
       "      <td>...</td>\n",
       "      <td>...</td>\n",
       "      <td>...</td>\n",
       "      <td>...</td>\n",
       "      <td>...</td>\n",
       "      <td>...</td>\n",
       "      <td>...</td>\n",
       "      <td>...</td>\n",
       "      <td>...</td>\n",
       "      <td>...</td>\n",
       "      <td>...</td>\n",
       "      <td>...</td>\n",
       "      <td>...</td>\n",
       "      <td>...</td>\n",
       "      <td>...</td>\n",
       "      <td>...</td>\n",
       "      <td>...</td>\n",
       "    </tr>\n",
       "    <tr>\n",
       "      <th>891</th>\n",
       "      <td>Widmann Analysis 2019  # pallets</td>\n",
       "      <td>widmann analysis pallet</td>\n",
       "      <td>Dash989</td>\n",
       "      <td>18</td>\n",
       "      <td>-0.027055</td>\n",
       "      <td>-0.017985</td>\n",
       "      <td>-0.008370</td>\n",
       "      <td>-0.047128</td>\n",
       "      <td>0.018603</td>\n",
       "      <td>-0.041656</td>\n",
       "      <td>...</td>\n",
       "      <td>-0.125411</td>\n",
       "      <td>-0.041447</td>\n",
       "      <td>0.032802</td>\n",
       "      <td>0.001089</td>\n",
       "      <td>0.114465</td>\n",
       "      <td>0.052364</td>\n",
       "      <td>0.023956</td>\n",
       "      <td>0.096990</td>\n",
       "      <td>0.115609</td>\n",
       "      <td>0.065546</td>\n",
       "    </tr>\n",
       "    <tr>\n",
       "      <th>892</th>\n",
       "      <td>OV - DEMEA Quality Allocation</td>\n",
       "      <td>ov demea quality allocation</td>\n",
       "      <td>Dash991</td>\n",
       "      <td>13</td>\n",
       "      <td>-0.135902</td>\n",
       "      <td>-0.279688</td>\n",
       "      <td>-0.001480</td>\n",
       "      <td>0.326709</td>\n",
       "      <td>-0.006003</td>\n",
       "      <td>0.036711</td>\n",
       "      <td>...</td>\n",
       "      <td>-0.007605</td>\n",
       "      <td>-0.015312</td>\n",
       "      <td>0.004046</td>\n",
       "      <td>0.012727</td>\n",
       "      <td>0.049464</td>\n",
       "      <td>0.037261</td>\n",
       "      <td>-0.015147</td>\n",
       "      <td>-0.034894</td>\n",
       "      <td>0.005652</td>\n",
       "      <td>-0.062164</td>\n",
       "    </tr>\n",
       "    <tr>\n",
       "      <th>893</th>\n",
       "      <td>Blueberry Report by Pack</td>\n",
       "      <td>blueberry pack</td>\n",
       "      <td>Dash992</td>\n",
       "      <td>0</td>\n",
       "      <td>0.109378</td>\n",
       "      <td>-0.007328</td>\n",
       "      <td>0.148158</td>\n",
       "      <td>-0.110890</td>\n",
       "      <td>0.001971</td>\n",
       "      <td>0.112068</td>\n",
       "      <td>...</td>\n",
       "      <td>0.003462</td>\n",
       "      <td>0.007838</td>\n",
       "      <td>0.002030</td>\n",
       "      <td>-0.023196</td>\n",
       "      <td>0.014834</td>\n",
       "      <td>-0.042160</td>\n",
       "      <td>-0.029732</td>\n",
       "      <td>0.003153</td>\n",
       "      <td>-0.026371</td>\n",
       "      <td>-0.003586</td>\n",
       "    </tr>\n",
       "    <tr>\n",
       "      <th>894</th>\n",
       "      <td>Daily Pulse</td>\n",
       "      <td>daily pulse</td>\n",
       "      <td>Dash994</td>\n",
       "      <td>4</td>\n",
       "      <td>0.021801</td>\n",
       "      <td>0.031121</td>\n",
       "      <td>0.292212</td>\n",
       "      <td>-0.142743</td>\n",
       "      <td>0.304478</td>\n",
       "      <td>0.242318</td>\n",
       "      <td>...</td>\n",
       "      <td>-0.050916</td>\n",
       "      <td>0.018760</td>\n",
       "      <td>0.079337</td>\n",
       "      <td>-0.042667</td>\n",
       "      <td>0.044823</td>\n",
       "      <td>-0.077758</td>\n",
       "      <td>-0.069404</td>\n",
       "      <td>0.034159</td>\n",
       "      <td>-0.030565</td>\n",
       "      <td>0.042084</td>\n",
       "    </tr>\n",
       "    <tr>\n",
       "      <th>895</th>\n",
       "      <td>Defects Table</td>\n",
       "      <td>defect table</td>\n",
       "      <td>Dash996</td>\n",
       "      <td>13</td>\n",
       "      <td>-0.002400</td>\n",
       "      <td>-0.072648</td>\n",
       "      <td>0.053178</td>\n",
       "      <td>0.022103</td>\n",
       "      <td>-0.046193</td>\n",
       "      <td>-0.048973</td>\n",
       "      <td>...</td>\n",
       "      <td>0.006544</td>\n",
       "      <td>-0.007033</td>\n",
       "      <td>0.004929</td>\n",
       "      <td>0.006786</td>\n",
       "      <td>0.000751</td>\n",
       "      <td>0.009989</td>\n",
       "      <td>-0.002711</td>\n",
       "      <td>-0.011207</td>\n",
       "      <td>0.005820</td>\n",
       "      <td>0.012615</td>\n",
       "    </tr>\n",
       "  </tbody>\n",
       "</table>\n",
       "<p>896 rows × 531 columns</p>\n",
       "</div>"
      ],
      "text/plain": [
       "                        Original Name               Dashboard Name  \\\n",
       "0      Pallet Summary by Order by Day     pallet summary order day   \n",
       "1        Product Leader - Blueberries     product leader blueberry   \n",
       "2                   CHL Fruit Details             chl fruit detail   \n",
       "3        Product Leader - Raspberries     product leader raspberry   \n",
       "4                  OV - CMP Dashboard                       ov cmp   \n",
       "..                                ...                          ...   \n",
       "891  Widmann Analysis 2019  # pallets      widmann analysis pallet   \n",
       "892     OV - DEMEA Quality Allocation  ov demea quality allocation   \n",
       "893          Blueberry Report by Pack               blueberry pack   \n",
       "894                       Daily Pulse                  daily pulse   \n",
       "895                     Defects Table                 defect table   \n",
       "\n",
       "    Masked Name  cluster  feture_0  feture_1  feture_2  feture_3  feture_4  \\\n",
       "0         Dash0        8 -0.201026  0.459667 -0.069311  0.154639  0.005006   \n",
       "1         Dash2        0  0.090284 -0.043623  0.149859 -0.084850 -0.001573   \n",
       "2         Dash3        6  0.067462  0.043770 -0.130837 -0.079971 -0.189422   \n",
       "3         Dash4        0  0.020453 -0.051261  0.039385 -0.061668 -0.064061   \n",
       "4         Dash5       13 -0.042761 -0.105942  0.014664  0.010768 -0.000051   \n",
       "..          ...      ...       ...       ...       ...       ...       ...   \n",
       "891     Dash989       18 -0.027055 -0.017985 -0.008370 -0.047128  0.018603   \n",
       "892     Dash991       13 -0.135902 -0.279688 -0.001480  0.326709 -0.006003   \n",
       "893     Dash992        0  0.109378 -0.007328  0.148158 -0.110890  0.001971   \n",
       "894     Dash994        4  0.021801  0.031121  0.292212 -0.142743  0.304478   \n",
       "895     Dash996       13 -0.002400 -0.072648  0.053178  0.022103 -0.046193   \n",
       "\n",
       "     feture_5  ...  feture_517  feture_518  feture_519  feture_520  \\\n",
       "0    0.018579  ...   -0.006624    0.013650    0.004409   -0.000686   \n",
       "1    0.120620  ...    0.003112    0.015973   -0.010839   -0.001178   \n",
       "2    0.199751  ...   -0.078297    0.098681   -0.033531   -0.092406   \n",
       "3    0.076123  ...    0.002540    0.006045   -0.006809    0.003584   \n",
       "4   -0.019718  ...    0.021542   -0.067069    0.041438   -0.184403   \n",
       "..        ...  ...         ...         ...         ...         ...   \n",
       "891 -0.041656  ...   -0.125411   -0.041447    0.032802    0.001089   \n",
       "892  0.036711  ...   -0.007605   -0.015312    0.004046    0.012727   \n",
       "893  0.112068  ...    0.003462    0.007838    0.002030   -0.023196   \n",
       "894  0.242318  ...   -0.050916    0.018760    0.079337   -0.042667   \n",
       "895 -0.048973  ...    0.006544   -0.007033    0.004929    0.006786   \n",
       "\n",
       "     feture_521  feture_522  feture_523  feture_524  feture_525  feture_526  \n",
       "0     -0.000371   -0.016209   -0.010374   -0.025544   -0.008070   -0.017935  \n",
       "1      0.003352    0.004796   -0.006778    0.004091    0.007545   -0.003242  \n",
       "2     -0.020053   -0.011418   -0.064845   -0.047779   -0.033614   -0.053062  \n",
       "3     -0.003942    0.010008    0.002987   -0.016870    0.006460    0.002439  \n",
       "4     -0.106878   -0.117957   -0.056354    0.176433   -0.046319    0.065849  \n",
       "..          ...         ...         ...         ...         ...         ...  \n",
       "891    0.114465    0.052364    0.023956    0.096990    0.115609    0.065546  \n",
       "892    0.049464    0.037261   -0.015147   -0.034894    0.005652   -0.062164  \n",
       "893    0.014834   -0.042160   -0.029732    0.003153   -0.026371   -0.003586  \n",
       "894    0.044823   -0.077758   -0.069404    0.034159   -0.030565    0.042084  \n",
       "895    0.000751    0.009989   -0.002711   -0.011207    0.005820    0.012615  \n",
       "\n",
       "[896 rows x 531 columns]"
      ]
     },
     "execution_count": 398,
     "metadata": {},
     "output_type": "execute_result"
    }
   ],
   "source": [
    "new_train_samples_"
   ]
  },
  {
   "cell_type": "code",
   "execution_count": 133,
   "metadata": {},
   "outputs": [],
   "source": [
    "from sklearn.neighbors import NearestNeighbors\n",
    "from sklearn import preprocessing\n",
    "\n",
    "def get_dashbord_recommedation(dashboard_name):\n",
    "    res = vectorizer.transform([dashboard_name])\n",
    "    new= res.toarray()\n",
    "    min_max_scaled = min_max_loader.transform(new)\n",
    "    pca_input=min_max_scaled.reshape(1,-1)\n",
    "    pca_output_=pca.transform(pca_input)\n",
    "    kmeans_output= kmeans.classify(pca_output_[0])\n",
    "\n",
    "    col_names = [\"feture_\"+str(i) for i in range(0,pca_output_.shape[1])]\n",
    "    col_names\n",
    "    new_test = pd.DataFrame(pca_output_,columns=col_names)\n",
    "    new_test['Searched_Dashboard_Name']=[dashboard_name]\n",
    "    new_test['cluster']=kmeans_output\n",
    "    new_test = new_test[['Searched_Dashboard_Name','cluster']+col_names]\n",
    "    sub_set_train = new_train_samples_[new_train_samples_['cluster']==kmeans_output].reset_index(drop=True)\n",
    "    #train = sub_set_train\n",
    "    # test = new_test\n",
    "\n",
    "    X = sub_set_train[col_names]\n",
    "    cluster_group_size = sub_set_train.shape[0]\n",
    "    if cluster_group_size >= 100:\n",
    "        cluster_group_size=100\n",
    "    else:\n",
    "        cluster_group_size=cluster_group_size\n",
    "    nbrs = NearestNeighbors(n_neighbors=cluster_group_size, algorithm='auto',metric='cosine').fit(X)\n",
    "    distances, indices = nbrs.kneighbors(new_test[col_names])\n",
    "    #print(preprocessing.normalize(distances)*100)\n",
    "    #print((1-preprocessing.normalize(distances))*100)\n",
    "    similarity_score = (1-preprocessing.normalize(distances))*100\n",
    "    output = pd.DataFrame(sub_set_train.iloc[indices[0]]).reset_index(drop=True)\n",
    "    pd.set_option('precision',8)\n",
    "    df = pd.DataFrame({'similarity_score':similarity_score[0]})\n",
    "    output['similarity_score'] = np.round(similarity_score[0],10)\n",
    "    output['Searched_Dashboard_Name'] = dashboard_name\n",
    "    output.sort_values(['similarity_score'],ascending=False,inplace=True)\n",
    "    output1 = output.head(3).reset_index(drop=True)\n",
    "    output1 = output1[['Searched_Dashboard_Name','Original Name','similarity_score','cluster']]\n",
    "    output1.rename(columns={'Original Name':\"recommended_dashbord\"},inplace=True)\n",
    "    return output1 "
   ]
  },
  {
   "cell_type": "code",
   "execution_count": 134,
   "metadata": {},
   "outputs": [
    {
     "data": {
      "text/html": [
       "<div>\n",
       "<style scoped>\n",
       "    .dataframe tbody tr th:only-of-type {\n",
       "        vertical-align: middle;\n",
       "    }\n",
       "\n",
       "    .dataframe tbody tr th {\n",
       "        vertical-align: top;\n",
       "    }\n",
       "\n",
       "    .dataframe thead th {\n",
       "        text-align: right;\n",
       "    }\n",
       "</style>\n",
       "<table border=\"1\" class=\"dataframe\">\n",
       "  <thead>\n",
       "    <tr style=\"text-align: right;\">\n",
       "      <th></th>\n",
       "      <th>Searched_Dashboard_Name</th>\n",
       "      <th>recommended_dashbord</th>\n",
       "      <th>similarity_score</th>\n",
       "      <th>cluster</th>\n",
       "    </tr>\n",
       "  </thead>\n",
       "  <tbody>\n",
       "    <tr>\n",
       "      <th>0</th>\n",
       "      <td>ov sample weight</td>\n",
       "      <td>OV - Grower to Customer (Sold Weight)</td>\n",
       "      <td>93.01879213</td>\n",
       "      <td>13</td>\n",
       "    </tr>\n",
       "    <tr>\n",
       "      <th>1</th>\n",
       "      <td>ov sample weight</td>\n",
       "      <td>OV- wPfQ &amp; Weight PRT</td>\n",
       "      <td>90.58461863</td>\n",
       "      <td>13</td>\n",
       "    </tr>\n",
       "    <tr>\n",
       "      <th>2</th>\n",
       "      <td>ov sample weight</td>\n",
       "      <td>OV - Allocation Dashboard</td>\n",
       "      <td>86.22191436</td>\n",
       "      <td>13</td>\n",
       "    </tr>\n",
       "  </tbody>\n",
       "</table>\n",
       "</div>"
      ],
      "text/plain": [
       "  Searched_Dashboard_Name                   recommended_dashbord  \\\n",
       "0        ov sample weight  OV - Grower to Customer (Sold Weight)   \n",
       "1        ov sample weight                  OV- wPfQ & Weight PRT   \n",
       "2        ov sample weight              OV - Allocation Dashboard   \n",
       "\n",
       "   similarity_score  cluster  \n",
       "0       93.01879213       13  \n",
       "1       90.58461863       13  \n",
       "2       86.22191436       13  "
      ]
     },
     "execution_count": 134,
     "metadata": {},
     "output_type": "execute_result"
    }
   ],
   "source": [
    "dashboard_name = 'ov sample weight'\n",
    "out = get_dashbord_recommedation(dashboard_name)\n",
    "out"
   ]
  },
  {
   "cell_type": "code",
   "execution_count": 136,
   "metadata": {},
   "outputs": [
    {
     "data": {
      "text/html": [
       "<div>\n",
       "<style scoped>\n",
       "    .dataframe tbody tr th:only-of-type {\n",
       "        vertical-align: middle;\n",
       "    }\n",
       "\n",
       "    .dataframe tbody tr th {\n",
       "        vertical-align: top;\n",
       "    }\n",
       "\n",
       "    .dataframe thead th {\n",
       "        text-align: right;\n",
       "    }\n",
       "</style>\n",
       "<table border=\"1\" class=\"dataframe\">\n",
       "  <thead>\n",
       "    <tr style=\"text-align: right;\">\n",
       "      <th></th>\n",
       "      <th>Searched_Dashboard_Name</th>\n",
       "      <th>recommended_dashbord</th>\n",
       "      <th>similarity_score</th>\n",
       "      <th>cluster</th>\n",
       "    </tr>\n",
       "  </thead>\n",
       "  <tbody>\n",
       "    <tr>\n",
       "      <th>0</th>\n",
       "      <td>ov product leadership blue monitor</td>\n",
       "      <td>OV - Product Leadership: Rasps Monitor</td>\n",
       "      <td>98.44708671</td>\n",
       "      <td>13</td>\n",
       "    </tr>\n",
       "    <tr>\n",
       "      <th>1</th>\n",
       "      <td>ov product leadership blue monitor</td>\n",
       "      <td>OV - Product Leadership: Blacks Monitor</td>\n",
       "      <td>98.42406836</td>\n",
       "      <td>13</td>\n",
       "    </tr>\n",
       "    <tr>\n",
       "      <th>2</th>\n",
       "      <td>ov product leadership blue monitor</td>\n",
       "      <td>OV - Product Leadership: Straws Monitor</td>\n",
       "      <td>97.70396447</td>\n",
       "      <td>13</td>\n",
       "    </tr>\n",
       "  </tbody>\n",
       "</table>\n",
       "</div>"
      ],
      "text/plain": [
       "              Searched_Dashboard_Name  \\\n",
       "0  ov product leadership blue monitor   \n",
       "1  ov product leadership blue monitor   \n",
       "2  ov product leadership blue monitor   \n",
       "\n",
       "                      recommended_dashbord  similarity_score  cluster  \n",
       "0   OV - Product Leadership: Rasps Monitor       98.44708671       13  \n",
       "1  OV - Product Leadership: Blacks Monitor       98.42406836       13  \n",
       "2  OV - Product Leadership: Straws Monitor       97.70396447       13  "
      ]
     },
     "execution_count": 136,
     "metadata": {},
     "output_type": "execute_result"
    }
   ],
   "source": [
    "dashboard_name  = 'ov product leadership blue monitor'\n",
    "out = get_dashbord_recommedation(dashboard_name)\n",
    "out"
   ]
  },
  {
   "cell_type": "code",
   "execution_count": 137,
   "metadata": {
    "id": "nJ-my0DsPT_Z"
   },
   "outputs": [],
   "source": [
    "dashboard_name = 'settlement production blackberry test'\n",
    "rec_dash_output = get_dashbord_recommedation(dashboard_name)"
   ]
  },
  {
   "cell_type": "code",
   "execution_count": 138,
   "metadata": {
    "colab": {
     "base_uri": "https://localhost:8080/",
     "height": 142
    },
    "id": "wN8u3TGtPT_Z",
    "outputId": "685b47f5-9443-4cb7-c7e5-fda23ca42db6"
   },
   "outputs": [
    {
     "data": {
      "text/html": [
       "<div>\n",
       "<style scoped>\n",
       "    .dataframe tbody tr th:only-of-type {\n",
       "        vertical-align: middle;\n",
       "    }\n",
       "\n",
       "    .dataframe tbody tr th {\n",
       "        vertical-align: top;\n",
       "    }\n",
       "\n",
       "    .dataframe thead th {\n",
       "        text-align: right;\n",
       "    }\n",
       "</style>\n",
       "<table border=\"1\" class=\"dataframe\">\n",
       "  <thead>\n",
       "    <tr style=\"text-align: right;\">\n",
       "      <th></th>\n",
       "      <th>Searched_Dashboard_Name</th>\n",
       "      <th>recommended_dashbord</th>\n",
       "      <th>similarity_score</th>\n",
       "      <th>cluster</th>\n",
       "    </tr>\n",
       "  </thead>\n",
       "  <tbody>\n",
       "    <tr>\n",
       "      <th>0</th>\n",
       "      <td>settlement production blackberry test</td>\n",
       "      <td>Settlement- Production Report</td>\n",
       "      <td>93.34104340</td>\n",
       "      <td>12</td>\n",
       "    </tr>\n",
       "    <tr>\n",
       "      <th>1</th>\n",
       "      <td>settlement production blackberry test</td>\n",
       "      <td>Settlement BLUE</td>\n",
       "      <td>87.29213771</td>\n",
       "      <td>12</td>\n",
       "    </tr>\n",
       "    <tr>\n",
       "      <th>2</th>\n",
       "      <td>settlement production blackberry test</td>\n",
       "      <td>Settlement RASP</td>\n",
       "      <td>87.09391976</td>\n",
       "      <td>12</td>\n",
       "    </tr>\n",
       "  </tbody>\n",
       "</table>\n",
       "</div>"
      ],
      "text/plain": [
       "                 Searched_Dashboard_Name           recommended_dashbord  \\\n",
       "0  settlement production blackberry test  Settlement- Production Report   \n",
       "1  settlement production blackberry test                Settlement BLUE   \n",
       "2  settlement production blackberry test                Settlement RASP   \n",
       "\n",
       "   similarity_score  cluster  \n",
       "0       93.34104340       12  \n",
       "1       87.29213771       12  \n",
       "2       87.09391976       12  "
      ]
     },
     "execution_count": 138,
     "metadata": {},
     "output_type": "execute_result"
    }
   ],
   "source": [
    "rec_dash_output"
   ]
  }
 ],
 "metadata": {
  "colab": {
   "collapsed_sections": [
    "HwpQx_B8mMmY",
    "2AWnmy6kDPeM"
   ],
   "name": "power_me_recommendation_with_pca_KNN",
   "provenance": [],
   "toc_visible": true
  },
  "kernelspec": {
   "display_name": "Python 3",
   "language": "python",
   "name": "python3"
  },
  "language_info": {
   "codemirror_mode": {
    "name": "ipython",
    "version": 3
   },
   "file_extension": ".py",
   "mimetype": "text/x-python",
   "name": "python",
   "nbconvert_exporter": "python",
   "pygments_lexer": "ipython3",
   "version": "3.8.8"
  }
 },
 "nbformat": 4,
 "nbformat_minor": 1
}
